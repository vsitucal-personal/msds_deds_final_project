{
 "cells": [
  {
   "cell_type": "code",
   "execution_count": 1,
   "id": "9951c3b6-d2df-4f5b-8c30-f0c2ace3f649",
   "metadata": {
    "execution": {
     "iopub.execute_input": "2025-03-16T10:50:47.694940Z",
     "iopub.status.busy": "2025-03-16T10:50:47.694768Z",
     "iopub.status.idle": "2025-03-16T10:50:48.267924Z",
     "shell.execute_reply": "2025-03-16T10:50:48.266874Z",
     "shell.execute_reply.started": "2025-03-16T10:50:47.694925Z"
    }
   },
   "outputs": [],
   "source": [
    "%load_ext sql"
   ]
  },
  {
   "cell_type": "code",
   "execution_count": 7,
   "id": "1c8414a7-76f8-4152-a6fd-8b7ff1c5729e",
   "metadata": {
    "execution": {
     "iopub.execute_input": "2025-03-16T10:59:39.671428Z",
     "iopub.status.busy": "2025-03-16T10:59:39.671203Z",
     "iopub.status.idle": "2025-03-16T10:59:39.675836Z",
     "shell.execute_reply": "2025-03-16T10:59:39.675193Z",
     "shell.execute_reply.started": "2025-03-16T10:59:39.671412Z"
    }
   },
   "outputs": [],
   "source": [
    "import requests\n",
    "import os\n",
    "import pandas as pd\n",
    "from sqlalchemy import create_engine\n",
    "from faker import Faker"
   ]
  },
  {
   "cell_type": "code",
   "execution_count": 3,
   "id": "5a86dd25-5a67-4431-bf2a-afe614c96fc2",
   "metadata": {
    "execution": {
     "iopub.execute_input": "2025-03-16T10:50:50.210480Z",
     "iopub.status.busy": "2025-03-16T10:50:50.210264Z",
     "iopub.status.idle": "2025-03-16T10:50:50.214554Z",
     "shell.execute_reply": "2025-03-16T10:50:50.213558Z",
     "shell.execute_reply.started": "2025-03-16T10:50:50.210465Z"
    }
   },
   "outputs": [],
   "source": [
    "pd.set_option('display.max_rows', 12)\n",
    "pd.set_option('display.min_rows', 6)"
   ]
  },
  {
   "cell_type": "code",
   "execution_count": 4,
   "id": "59cf744b-5914-4a8b-a965-a8bab0a770ed",
   "metadata": {
    "execution": {
     "iopub.execute_input": "2025-03-16T10:50:51.753155Z",
     "iopub.status.busy": "2025-03-16T10:50:51.752905Z",
     "iopub.status.idle": "2025-03-16T10:50:53.103200Z",
     "shell.execute_reply": "2025-03-16T10:50:53.102555Z",
     "shell.execute_reply.started": "2025-03-16T10:50:51.753138Z"
    }
   },
   "outputs": [
    {
     "name": "stdout",
     "output_type": "stream",
     "text": [
      "customers\n",
      "201 {'id': 1, 'first_name': 'Christine', 'last_name': 'Taylor', 'email': 'lewisrachel@example.com', 'joined_at': '2025-03-16T10:50:51.811274'}\n",
      "201 {'id': 2, 'first_name': 'Ariel', 'last_name': 'Vance', 'email': 'susancruz@example.org', 'joined_at': '2025-03-16T10:50:51.822178'}\n",
      "201 {'id': 3, 'first_name': 'Tony', 'last_name': 'Williams', 'email': 'justin87@example.net', 'joined_at': '2025-03-16T10:50:51.832528'}\n",
      "201 {'id': 4, 'first_name': 'Jack', 'last_name': 'Klein', 'email': 'evanscaroline@example.net', 'joined_at': '2025-03-16T10:50:51.841688'}\n",
      "201 {'id': 5, 'first_name': 'Corey', 'last_name': 'Taylor', 'email': 'audrey99@example.net', 'joined_at': '2025-03-16T10:50:51.850907'}\n",
      "201 {'id': 6, 'first_name': 'Jason', 'last_name': 'Horton', 'email': 'lance09@example.org', 'joined_at': '2025-03-16T10:50:51.860058'}\n",
      "201 {'id': 7, 'first_name': 'Jose', 'last_name': 'Sanchez', 'email': 'amanda83@example.org', 'joined_at': '2025-03-16T10:50:51.868223'}\n",
      "201 {'id': 8, 'first_name': 'Sarah', 'last_name': 'Rodriguez', 'email': 'tgrant@example.org', 'joined_at': '2025-03-16T10:50:51.880784'}\n",
      "201 {'id': 9, 'first_name': 'Edward', 'last_name': 'Rodriguez', 'email': 'markwilliams@example.net', 'joined_at': '2025-03-16T10:50:51.889643'}\n",
      "201 {'id': 10, 'first_name': 'Lance', 'last_name': 'Carpenter', 'email': 'carolford@example.org', 'joined_at': '2025-03-16T10:50:51.900615'}\n",
      "vendors\n",
      "201 {'id': 1, 'vendor_name': 'Villa-Graves', 'region': 'LR', 'joined_at': '2025-03-16T10:50:51.911371'}\n",
      "201 {'id': 2, 'vendor_name': 'Bradshaw-Mitchell', 'region': 'SI', 'joined_at': '2025-03-16T10:50:51.921080'}\n",
      "201 {'id': 3, 'vendor_name': 'Hernandez-Foster', 'region': 'SG', 'joined_at': '2025-03-16T10:50:51.929973'}\n",
      "201 {'id': 4, 'vendor_name': 'Austin-Watson', 'region': 'DZ', 'joined_at': '2025-03-16T10:50:51.937969'}\n",
      "201 {'id': 5, 'vendor_name': 'Patel, Perez and Clark', 'region': 'RW', 'joined_at': '2025-03-16T10:50:51.946920'}\n",
      "inventory per vendor\n",
      "200 {'id': 1, 'item_name': 'production', 'category': 'follow', 'price': 248.0, 'vendor_id': 1, 'updated_at': '2025-03-16T10:50:51.958297'}\n",
      "200 {'id': 2, 'item_name': 'production', 'category': 'place', 'price': 382.0, 'vendor_id': 1, 'updated_at': '2025-03-16T10:50:51.970410'}\n",
      "200 {'id': 3, 'item_name': 'middle', 'category': 'century', 'price': 138.0, 'vendor_id': 1, 'updated_at': '2025-03-16T10:50:51.978457'}\n",
      "200 {'id': 4, 'item_name': 'middle', 'category': 'best', 'price': 315.0, 'vendor_id': 1, 'updated_at': '2025-03-16T10:50:51.988148'}\n",
      "200 {'id': 5, 'item_name': 'east', 'category': 'audience', 'price': 99.0, 'vendor_id': 1, 'updated_at': '2025-03-16T10:50:51.998346'}\n",
      "200 {'id': 6, 'item_name': 'party', 'category': 'heart', 'price': 160.0, 'vendor_id': 1, 'updated_at': '2025-03-16T10:50:52.007299'}\n",
      "200 {'id': 7, 'item_name': 'final', 'category': 'top', 'price': 424.0, 'vendor_id': 1, 'updated_at': '2025-03-16T10:50:52.020590'}\n",
      "200 {'id': 8, 'item_name': 'ball', 'category': 'yard', 'price': 347.0, 'vendor_id': 1, 'updated_at': '2025-03-16T10:50:52.031386'}\n",
      "200 {'id': 9, 'item_name': 'drug', 'category': 'plant', 'price': 18.0, 'vendor_id': 1, 'updated_at': '2025-03-16T10:50:52.040045'}\n",
      "200 {'id': 10, 'item_name': 'group', 'category': 'direction', 'price': 91.0, 'vendor_id': 1, 'updated_at': '2025-03-16T10:50:52.048518'}\n",
      "200 {'id': 11, 'item_name': 'much', 'category': 'represent', 'price': 13.0, 'vendor_id': 2, 'updated_at': '2025-03-16T10:50:52.060644'}\n",
      "200 {'id': 12, 'item_name': 'light', 'category': 'agreement', 'price': 49.0, 'vendor_id': 2, 'updated_at': '2025-03-16T10:50:52.072319'}\n",
      "200 {'id': 13, 'item_name': 'ten', 'category': 'discussion', 'price': 342.0, 'vendor_id': 2, 'updated_at': '2025-03-16T10:50:52.082410'}\n",
      "200 {'id': 14, 'item_name': 'peace', 'category': 'customer', 'price': 230.0, 'vendor_id': 2, 'updated_at': '2025-03-16T10:50:52.090463'}\n",
      "200 {'id': 15, 'item_name': 'partner', 'category': 'when', 'price': 148.0, 'vendor_id': 2, 'updated_at': '2025-03-16T10:50:52.100267'}\n",
      "200 {'id': 16, 'item_name': 'fly', 'category': 'city', 'price': 159.0, 'vendor_id': 2, 'updated_at': '2025-03-16T10:50:52.112461'}\n",
      "200 {'id': 17, 'item_name': 'imagine', 'category': 'vote', 'price': 143.0, 'vendor_id': 2, 'updated_at': '2025-03-16T10:50:52.120835'}\n",
      "200 {'id': 18, 'item_name': 'herself', 'category': 'benefit', 'price': 393.0, 'vendor_id': 2, 'updated_at': '2025-03-16T10:50:52.129771'}\n",
      "200 {'id': 19, 'item_name': 'able', 'category': 'often', 'price': 165.0, 'vendor_id': 2, 'updated_at': '2025-03-16T10:50:52.139127'}\n",
      "200 {'id': 20, 'item_name': 'word', 'category': 'cover', 'price': 187.0, 'vendor_id': 2, 'updated_at': '2025-03-16T10:50:52.150572'}\n",
      "200 {'id': 21, 'item_name': 'before', 'category': 'lot', 'price': 420.0, 'vendor_id': 3, 'updated_at': '2025-03-16T10:50:52.159098'}\n",
      "200 {'id': 22, 'item_name': 'president', 'category': 'forget', 'price': 320.0, 'vendor_id': 3, 'updated_at': '2025-03-16T10:50:52.167241'}\n",
      "200 {'id': 23, 'item_name': 'for', 'category': 'toward', 'price': 266.0, 'vendor_id': 3, 'updated_at': '2025-03-16T10:50:52.176221'}\n",
      "200 {'id': 24, 'item_name': 'begin', 'category': 'field', 'price': 115.0, 'vendor_id': 3, 'updated_at': '2025-03-16T10:50:52.187008'}\n",
      "200 {'id': 25, 'item_name': 'it', 'category': 'policy', 'price': 355.0, 'vendor_id': 3, 'updated_at': '2025-03-16T10:50:52.196864'}\n",
      "200 {'id': 26, 'item_name': 'final', 'category': 'federal', 'price': 133.0, 'vendor_id': 3, 'updated_at': '2025-03-16T10:50:52.206283'}\n",
      "200 {'id': 27, 'item_name': 'report', 'category': 'measure', 'price': 54.0, 'vendor_id': 3, 'updated_at': '2025-03-16T10:50:52.219523'}\n",
      "200 {'id': 28, 'item_name': 'be', 'category': 'professor', 'price': 27.0, 'vendor_id': 3, 'updated_at': '2025-03-16T10:50:52.228660'}\n",
      "200 {'id': 29, 'item_name': 'through', 'category': 'news', 'price': 305.0, 'vendor_id': 3, 'updated_at': '2025-03-16T10:50:52.239743'}\n",
      "200 {'id': 30, 'item_name': 'he', 'category': 'series', 'price': 261.0, 'vendor_id': 3, 'updated_at': '2025-03-16T10:50:52.249525'}\n",
      "200 {'id': 31, 'item_name': 'camera', 'category': 'miss', 'price': 247.0, 'vendor_id': 4, 'updated_at': '2025-03-16T10:50:52.257307'}\n",
      "200 {'id': 32, 'item_name': 'either', 'category': 'of', 'price': 96.0, 'vendor_id': 4, 'updated_at': '2025-03-16T10:50:52.267379'}\n",
      "200 {'id': 33, 'item_name': 'respond', 'category': 'source', 'price': 333.0, 'vendor_id': 4, 'updated_at': '2025-03-16T10:50:52.275528'}\n",
      "200 {'id': 34, 'item_name': 'need', 'category': 'nice', 'price': 85.0, 'vendor_id': 4, 'updated_at': '2025-03-16T10:50:52.285046'}\n",
      "200 {'id': 35, 'item_name': 'future', 'category': 'big', 'price': 464.0, 'vendor_id': 4, 'updated_at': '2025-03-16T10:50:52.293281'}\n",
      "200 {'id': 36, 'item_name': 'can', 'category': 'mean', 'price': 90.0, 'vendor_id': 4, 'updated_at': '2025-03-16T10:50:52.302008'}\n",
      "200 {'id': 37, 'item_name': 'base', 'category': 'become', 'price': 240.0, 'vendor_id': 4, 'updated_at': '2025-03-16T10:50:52.311661'}\n",
      "200 {'id': 38, 'item_name': 'author', 'category': 'wind', 'price': 449.0, 'vendor_id': 4, 'updated_at': '2025-03-16T10:50:52.320382'}\n",
      "200 {'id': 39, 'item_name': 'message', 'category': 'attorney', 'price': 191.0, 'vendor_id': 4, 'updated_at': '2025-03-16T10:50:52.331686'}\n",
      "200 {'id': 40, 'item_name': 'certain', 'category': 'a', 'price': 216.0, 'vendor_id': 4, 'updated_at': '2025-03-16T10:50:52.340795'}\n",
      "200 {'id': 41, 'item_name': 'law', 'category': 'social', 'price': 355.0, 'vendor_id': 5, 'updated_at': '2025-03-16T10:50:52.349549'}\n",
      "200 {'id': 42, 'item_name': 'speak', 'category': 'memory', 'price': 241.0, 'vendor_id': 5, 'updated_at': '2025-03-16T10:50:52.359559'}\n",
      "200 {'id': 43, 'item_name': 'big', 'category': 'grow', 'price': 342.0, 'vendor_id': 5, 'updated_at': '2025-03-16T10:50:52.369142'}\n",
      "200 {'id': 44, 'item_name': 'grow', 'category': 'good', 'price': 499.0, 'vendor_id': 5, 'updated_at': '2025-03-16T10:50:52.379687'}\n",
      "200 {'id': 45, 'item_name': 'little', 'category': 'yes', 'price': 486.0, 'vendor_id': 5, 'updated_at': '2025-03-16T10:50:52.388096'}\n",
      "200 {'id': 46, 'item_name': 'arrive', 'category': 'establish', 'price': 339.0, 'vendor_id': 5, 'updated_at': '2025-03-16T10:50:52.399473'}\n",
      "200 {'id': 47, 'item_name': 'response', 'category': 'try', 'price': 160.0, 'vendor_id': 5, 'updated_at': '2025-03-16T10:50:52.408633'}\n",
      "200 {'id': 48, 'item_name': 'successful', 'category': 'fill', 'price': 212.0, 'vendor_id': 5, 'updated_at': '2025-03-16T10:50:52.418164'}\n",
      "200 {'id': 49, 'item_name': 'out', 'category': 'lose', 'price': 320.0, 'vendor_id': 5, 'updated_at': '2025-03-16T10:50:52.427412'}\n",
      "200 {'id': 50, 'item_name': 'go', 'category': 'job', 'price': 154.0, 'vendor_id': 5, 'updated_at': '2025-03-16T10:50:52.438254'}\n",
      "cart and checkout twice and add to cart again!\n",
      "200 {'user_id': 1, 'cart': [{'item_id': '10', 'qty': 1, 'vendor_id': '3'}]}\n",
      "200 {\"message\":\"Transaction completed\",\"transaction_id\":\"61ba1cab-46e2-4fcc-be68-37aa2aca14af\"}\n",
      "200 {'user_id': 1, 'cart': [{'item_id': '1', 'qty': 4, 'vendor_id': '2'}]}\n",
      "200 {\"message\":\"Transaction completed\",\"transaction_id\":\"7f173438-86fe-4ec2-bf82-e4bd082aaa34\"}\n",
      "200 {'user_id': 1, 'cart': [{'item_id': '7', 'qty': 3, 'vendor_id': '2'}]}\n",
      "200 {'user_id': 2, 'cart': [{'item_id': '8', 'qty': 2, 'vendor_id': '4'}]}\n",
      "200 {\"message\":\"Transaction completed\",\"transaction_id\":\"99f3aef2-d7ba-4a94-abad-acf049a56bbe\"}\n",
      "200 {'user_id': 2, 'cart': [{'item_id': '3', 'qty': 5, 'vendor_id': '3'}]}\n",
      "200 {\"message\":\"Transaction completed\",\"transaction_id\":\"74a80d32-efc8-4515-ad58-de6d641ae1c0\"}\n",
      "200 {'user_id': 2, 'cart': [{'item_id': '4', 'qty': 5, 'vendor_id': '3'}]}\n",
      "200 {'user_id': 3, 'cart': [{'item_id': '9', 'qty': 1, 'vendor_id': '2'}]}\n",
      "200 {\"message\":\"Transaction completed\",\"transaction_id\":\"3c62784c-c011-4139-bfd2-95aa7f2cde96\"}\n",
      "200 {'user_id': 3, 'cart': [{'item_id': '10', 'qty': 4, 'vendor_id': '3'}]}\n",
      "200 {\"message\":\"Transaction completed\",\"transaction_id\":\"86559a44-1c8d-4116-a5e1-b9e454a6ebf6\"}\n",
      "200 {'user_id': 3, 'cart': [{'item_id': '10', 'qty': 3, 'vendor_id': '2'}]}\n",
      "200 {'user_id': 4, 'cart': [{'item_id': '1', 'qty': 2, 'vendor_id': '4'}]}\n",
      "200 {\"message\":\"Transaction completed\",\"transaction_id\":\"3685b13a-2e35-47fc-bdd1-e0ad21aee26c\"}\n",
      "200 {'user_id': 4, 'cart': [{'item_id': '2', 'qty': 2, 'vendor_id': '3'}]}\n",
      "200 {\"message\":\"Transaction completed\",\"transaction_id\":\"a1ee294c-10e1-4931-8132-3c3f1cdf4acd\"}\n",
      "200 {'user_id': 4, 'cart': [{'item_id': '5', 'qty': 3, 'vendor_id': '2'}]}\n",
      "200 {'user_id': 5, 'cart': [{'item_id': '4', 'qty': 4, 'vendor_id': '5'}]}\n",
      "200 {\"message\":\"Transaction completed\",\"transaction_id\":\"948a3e56-5122-4f37-a844-31f61c014b07\"}\n",
      "200 {'user_id': 5, 'cart': [{'item_id': '8', 'qty': 4, 'vendor_id': '1'}]}\n",
      "200 {\"message\":\"Transaction completed\",\"transaction_id\":\"f125e2a7-612a-4362-9462-1378e2f4d105\"}\n",
      "200 {'user_id': 5, 'cart': [{'item_id': '9', 'qty': 2, 'vendor_id': '4'}]}\n",
      "200 {'user_id': 6, 'cart': [{'item_id': '6', 'qty': 2, 'vendor_id': '4'}]}\n",
      "200 {\"message\":\"Transaction completed\",\"transaction_id\":\"5e912508-4b7e-4377-afd8-54346339855d\"}\n",
      "200 {'user_id': 6, 'cart': [{'item_id': '3', 'qty': 5, 'vendor_id': '2'}]}\n",
      "200 {\"message\":\"Transaction completed\",\"transaction_id\":\"7f1dac55-9487-4ce8-9c2e-0ae3a7cf4562\"}\n",
      "200 {'user_id': 6, 'cart': [{'item_id': '3', 'qty': 1, 'vendor_id': '5'}]}\n",
      "200 {'user_id': 7, 'cart': [{'item_id': '6', 'qty': 2, 'vendor_id': '4'}]}\n",
      "200 {\"message\":\"Transaction completed\",\"transaction_id\":\"995c5964-4772-4874-952a-6d90f33ec81f\"}\n",
      "200 {'user_id': 7, 'cart': [{'item_id': '6', 'qty': 4, 'vendor_id': '1'}]}\n",
      "200 {\"message\":\"Transaction completed\",\"transaction_id\":\"3fc3240f-7a96-4eda-9527-90ba5154bea5\"}\n",
      "200 {'user_id': 7, 'cart': [{'item_id': '3', 'qty': 3, 'vendor_id': '2'}]}\n",
      "200 {'user_id': 8, 'cart': [{'item_id': '3', 'qty': 2, 'vendor_id': '5'}]}\n",
      "200 {\"message\":\"Transaction completed\",\"transaction_id\":\"4a020bad-7099-4d4d-a0aa-15f67e23c932\"}\n",
      "200 {'user_id': 8, 'cart': [{'item_id': '4', 'qty': 3, 'vendor_id': '4'}]}\n",
      "200 {\"message\":\"Transaction completed\",\"transaction_id\":\"cca1268e-515d-4a1f-a778-f285df5c14e4\"}\n",
      "200 {'user_id': 8, 'cart': [{'item_id': '4', 'qty': 1, 'vendor_id': '2'}]}\n",
      "200 {'user_id': 9, 'cart': [{'item_id': '10', 'qty': 4, 'vendor_id': '1'}]}\n",
      "200 {\"message\":\"Transaction completed\",\"transaction_id\":\"55bbd7fe-fb36-48cb-b149-5d279026a9c3\"}\n",
      "200 {'user_id': 9, 'cart': [{'item_id': '3', 'qty': 1, 'vendor_id': '2'}]}\n",
      "200 {\"message\":\"Transaction completed\",\"transaction_id\":\"0700030b-8487-4dc3-9d1d-9de1ab9b7a14\"}\n",
      "200 {'user_id': 9, 'cart': [{'item_id': '10', 'qty': 2, 'vendor_id': '4'}]}\n",
      "200 {'user_id': 10, 'cart': [{'item_id': '5', 'qty': 3, 'vendor_id': '4'}]}\n",
      "200 {\"message\":\"Transaction completed\",\"transaction_id\":\"1a898610-8206-4d19-8a35-e47ddeec6b64\"}\n",
      "200 {'user_id': 10, 'cart': [{'item_id': '4', 'qty': 5, 'vendor_id': '5'}]}\n",
      "200 {\"message\":\"Transaction completed\",\"transaction_id\":\"739d2242-fcd8-49ed-b668-3e6fd062d571\"}\n",
      "200 {'user_id': 10, 'cart': [{'item_id': '10', 'qty': 1, 'vendor_id': '5'}]}\n"
     ]
    }
   ],
   "source": [
    "fake = Faker()\n",
    "\n",
    "base_url = \"http://fastapi:8000\"\n",
    "headers = {\"Content-Type\": \"application/json\"}\n",
    "\n",
    "print(\"customers\")\n",
    "# Create customers\n",
    "for customer_id in range(1, 11):\n",
    "    data = {\n",
    "        \"first_name\": fake.first_name(),\n",
    "        \"last_name\": fake.last_name(),\n",
    "        \"email\": fake.email(),\n",
    "        \"joined_at\": fake.iso8601()\n",
    "    }\n",
    "    response = requests.post(f\"{base_url}/customers/\", json=data, headers=headers)\n",
    "    print(response.status_code, response.json())\n",
    "\n",
    "print(\"vendors\")\n",
    "# Create vendors\n",
    "for vendor_id in range(1, 6):\n",
    "    data = {\n",
    "        \"vendor_name\": fake.company(),\n",
    "        \"region\": fake.country_code()\n",
    "    }\n",
    "    response = requests.post(f\"{base_url}/vendors/\", json=data, headers=headers)\n",
    "    print(response.status_code, response.json())\n",
    "\n",
    "print(\"inventory per vendor\")\n",
    "# Add inventory per vendor\n",
    "for vendor_id in range(1, 6):\n",
    "    for item_id in range(1, 11):\n",
    "        params = {\"vendor_id\": vendor_id}\n",
    "        data = {\n",
    "            \"item_name\": fake.word(),\n",
    "            \"category\": fake.word(),\n",
    "            \"price\": fake.random_int(min=10, max=500),\n",
    "        }\n",
    "        response = requests.post(f\"{base_url}/inventory/\", json=data, headers=headers, params=params)\n",
    "        print(response.status_code, response.json())\n",
    "\n",
    "print(\"cart and checkout twice and add to cart again!\")\n",
    "for customer_id in range(1, 11):\n",
    "    for _ in range(2):  # Checkout twice\n",
    "        cart_data = {\n",
    "            \"user_id\": customer_id,\n",
    "            \"cart\": [\n",
    "                {\n",
    "                    \"item_id\": str(fake.random_int(min=1, max=10)),\n",
    "                    \"vendor_id\": str(fake.random_int(min=1, max=5)),\n",
    "                    \"qty\": fake.random_int(min=1, max=5)\n",
    "                }\n",
    "            ]\n",
    "        }\n",
    "        response = requests.post(f\"{base_url}/cart/\", json=cart_data, headers=headers)\n",
    "        print(response.status_code, response.json())\n",
    "        \n",
    "        response = requests.post(f\"{base_url}/checkout/\", json={\"user_id\": customer_id}, headers=headers)\n",
    "        print(response.status_code, response.text)\n",
    "    \n",
    "    # Add to cart one more time\n",
    "    cart_data = {\n",
    "        \"user_id\": customer_id,\n",
    "        \"cart\": [\n",
    "            {\n",
    "                \"item_id\": str(fake.random_int(min=1, max=10)),\n",
    "                \"vendor_id\": str(fake.random_int(min=1, max=5)),\n",
    "                \"qty\": fake.random_int(min=1, max=5)\n",
    "            }\n",
    "        ]\n",
    "    }\n",
    "    response = requests.post(f\"{base_url}/cart/\", json=cart_data, headers=headers)\n",
    "    print(response.status_code, response.json())"
   ]
  },
  {
   "cell_type": "code",
   "execution_count": 8,
   "id": "5fa96845-c785-42c1-a89f-de93618637e4",
   "metadata": {
    "execution": {
     "iopub.execute_input": "2025-03-16T10:59:43.811879Z",
     "iopub.status.busy": "2025-03-16T10:59:43.811648Z",
     "iopub.status.idle": "2025-03-16T10:59:43.816589Z",
     "shell.execute_reply": "2025-03-16T10:59:43.815573Z",
     "shell.execute_reply.started": "2025-03-16T10:59:43.811863Z"
    }
   },
   "outputs": [],
   "source": [
    "OLTP_USER = os.getenv(\"POSTGRES_USER\")\n",
    "OLTP_PASS = os.getenv(\"POSTGRES_PASSWORD\")\n",
    "OLTP_HOST = os.getenv(\"POSTGRES_DB\")\n",
    "OLTP_DB_NAME = os.getenv(\"POSTGRES_HOST\")\n",
    "OLAP_USER = os.getenv(\"REDSHIFT_USER\")\n",
    "OLAP_PASS = os.getenv(\"REDSHIFT_PASSWORD\")\n",
    "OLAP_HOST = os.getenv(\"REDSHIFT_DB\")\n",
    "OLAP_DB_NAME = os.getenv(\"REDSHIFT_HOST\")"
   ]
  },
  {
   "cell_type": "code",
   "execution_count": 9,
   "id": "8ea3937e-8a78-476e-8698-9a279513db10",
   "metadata": {
    "execution": {
     "iopub.execute_input": "2025-03-16T10:59:45.320849Z",
     "iopub.status.busy": "2025-03-16T10:59:45.320413Z",
     "iopub.status.idle": "2025-03-16T10:59:45.361927Z",
     "shell.execute_reply": "2025-03-16T10:59:45.360771Z",
     "shell.execute_reply.started": "2025-03-16T10:59:45.320831Z"
    }
   },
   "outputs": [
    {
     "name": "stderr",
     "output_type": "stream",
     "text": [
      "RuntimeError: (psycopg2.OperationalError) connection to server at \"db\" (172.18.0.3), port 5432 failed: FATAL:  password authentication failed for user \"None\"\n",
      "\n",
      "(Background on this error at: https://sqlalche.me/e/20/e3q8)\n",
      "If you need help solving this issue, send us a message: https://ploomber.io/community\n"
     ]
    }
   ],
   "source": [
    "connection_string = f\"postgresql://{OLTP_USER}:{OLTP_PASS}@db:5432/{OLTP_DB_NAME}\"\n",
    "engine = create_engine(connection_string)\n",
    "get_ipython().run_line_magic('sql', connection_string)"
   ]
  },
  {
   "cell_type": "code",
   "execution_count": null,
   "id": "2f2df36c-6c8d-46f9-9238-7adcbd1d1a33",
   "metadata": {},
   "outputs": [],
   "source": [
    "%sql \\dt"
   ]
  },
  {
   "cell_type": "code",
   "execution_count": null,
   "id": "24f044ce-1c6b-4422-b967-b365ffb81fe3",
   "metadata": {},
   "outputs": [],
   "source": [
    "table_list = [\n",
    "    \"customer\", \"inventory\", \"vendor\"\n",
    "]"
   ]
  },
  {
   "cell_type": "code",
   "execution_count": null,
   "id": "e0e14b20-1dc9-4ae2-8a2e-353f80668afe",
   "metadata": {},
   "outputs": [],
   "source": [
    "for table in table_list:\n",
    "    print(f\"{table}\")\n",
    "    schema_query = f\"columns --table {table}\"\n",
    "    display(get_ipython().run_line_magic('sqlcmd', schema_query))"
   ]
  },
  {
   "cell_type": "code",
   "execution_count": null,
   "id": "fdf23bea-7fcd-4952-94c7-22eb7b7659f6",
   "metadata": {},
   "outputs": [],
   "source": [
    "for table in table_list:\n",
    "    print(f\"{table}\")\n",
    "    display(pd.read_sql(f\"select * from {table} limit 100\", engine))"
   ]
  },
  {
   "cell_type": "code",
   "execution_count": null,
   "id": "17580ec6-b81c-4785-8b72-b8005d131836",
   "metadata": {},
   "outputs": [],
   "source": []
  }
 ],
 "metadata": {
  "kernelspec": {
   "display_name": "Python 3 (ipykernel)",
   "language": "python",
   "name": "python3"
  },
  "language_info": {
   "codemirror_mode": {
    "name": "ipython",
    "version": 3
   },
   "file_extension": ".py",
   "mimetype": "text/x-python",
   "name": "python",
   "nbconvert_exporter": "python",
   "pygments_lexer": "ipython3",
   "version": "3.11.11"
  }
 },
 "nbformat": 4,
 "nbformat_minor": 5
}
