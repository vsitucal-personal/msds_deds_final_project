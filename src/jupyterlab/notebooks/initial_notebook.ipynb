{
 "cells": [
  {
   "cell_type": "code",
   "execution_count": 1,
   "id": "9951c3b6-d2df-4f5b-8c30-f0c2ace3f649",
   "metadata": {
    "execution": {
     "iopub.execute_input": "2025-03-16T00:42:51.532810Z",
     "iopub.status.busy": "2025-03-16T00:42:51.532665Z",
     "iopub.status.idle": "2025-03-16T00:42:52.041460Z",
     "shell.execute_reply": "2025-03-16T00:42:52.040856Z",
     "shell.execute_reply.started": "2025-03-16T00:42:51.532796Z"
    }
   },
   "outputs": [],
   "source": [
    "%load_ext sql"
   ]
  },
  {
   "cell_type": "code",
   "execution_count": 2,
   "id": "1c8414a7-76f8-4152-a6fd-8b7ff1c5729e",
   "metadata": {
    "execution": {
     "iopub.execute_input": "2025-03-16T00:42:53.024678Z",
     "iopub.status.busy": "2025-03-16T00:42:53.024454Z",
     "iopub.status.idle": "2025-03-16T00:42:53.101271Z",
     "shell.execute_reply": "2025-03-16T00:42:53.100378Z",
     "shell.execute_reply.started": "2025-03-16T00:42:53.024662Z"
    }
   },
   "outputs": [],
   "source": [
    "import requests\n",
    "from sqlalchemy import create_engine"
   ]
  },
  {
   "cell_type": "code",
   "execution_count": 3,
   "id": "2e35d9d0-ddb3-49ba-bf38-90dfb976ffe6",
   "metadata": {
    "execution": {
     "iopub.execute_input": "2025-03-16T00:42:54.009367Z",
     "iopub.status.busy": "2025-03-16T00:42:54.008880Z",
     "iopub.status.idle": "2025-03-16T00:42:54.034244Z",
     "shell.execute_reply": "2025-03-16T00:42:54.033480Z",
     "shell.execute_reply.started": "2025-03-16T00:42:54.009332Z"
    }
   },
   "outputs": [
    {
     "name": "stdout",
     "output_type": "stream",
     "text": [
      "201 {'id': 1, 'first_name': 'John', 'last_name': 'Doe', 'email': 'john.doe@example.com', 'joined_at': '2025-03-16T12:00:00'}\n"
     ]
    }
   ],
   "source": [
    "url = \"http://fastapi:8000/customers/\"\n",
    "\n",
    "data = {\n",
    "    \"first_name\": \"John\",\n",
    "    \"last_name\": \"Doe\",\n",
    "    \"email\": \"john.doe@example.com\",\n",
    "    \"joined_at\": \"2025-03-16T12:00:00\"\n",
    "}\n",
    "\n",
    "headers = {\"Content-Type\": \"application/json\"}\n",
    "\n",
    "response = requests.post(url, json=data, headers=headers)\n",
    "\n",
    "print(response.status_code, response.json())"
   ]
  },
  {
   "cell_type": "code",
   "execution_count": 4,
   "id": "8ea3937e-8a78-476e-8698-9a279513db10",
   "metadata": {
    "execution": {
     "iopub.execute_input": "2025-03-16T00:42:55.498199Z",
     "iopub.status.busy": "2025-03-16T00:42:55.497964Z",
     "iopub.status.idle": "2025-03-16T00:42:55.588235Z",
     "shell.execute_reply": "2025-03-16T00:42:55.587704Z",
     "shell.execute_reply.started": "2025-03-16T00:42:55.498182Z"
    }
   },
   "outputs": [
    {
     "data": {
      "text/html": [
       "<span style=\"None\">Connecting to &#x27;postgresql://user:***@db:5432/ecommerce&#x27;</span>"
      ],
      "text/plain": [
       "Connecting to 'postgresql://user:***@db:5432/ecommerce'"
      ]
     },
     "metadata": {},
     "output_type": "display_data"
    }
   ],
   "source": [
    "connection_string = f\"postgresql://user:password@db:5432/ecommerce\"\n",
    "engine = create_engine(connection_string)\n",
    "get_ipython().run_line_magic('sql', connection_string)"
   ]
  },
  {
   "cell_type": "code",
   "execution_count": 5,
   "id": "4091fbe7-27ea-4748-8a76-725fed516d4f",
   "metadata": {
    "execution": {
     "iopub.execute_input": "2025-03-16T00:42:56.825615Z",
     "iopub.status.busy": "2025-03-16T00:42:56.824935Z",
     "iopub.status.idle": "2025-03-16T00:42:56.842186Z",
     "shell.execute_reply": "2025-03-16T00:42:56.840899Z",
     "shell.execute_reply.started": "2025-03-16T00:42:56.825341Z"
    }
   },
   "outputs": [
    {
     "data": {
      "text/html": [
       "<span style=\"None\">Running query in &#x27;postgresql://user:***@db:5432/ecommerce&#x27;</span>"
      ],
      "text/plain": [
       "Running query in 'postgresql://user:***@db:5432/ecommerce'"
      ]
     },
     "metadata": {},
     "output_type": "display_data"
    },
    {
     "data": {
      "text/html": [
       "<table>\n",
       "    <thead>\n",
       "        <tr>\n",
       "            <th>Name</th>\n",
       "            <th>Owner</th>\n",
       "            <th>Encoding</th>\n",
       "            <th>Collate</th>\n",
       "            <th>Ctype</th>\n",
       "            <th>Access privileges</th>\n",
       "        </tr>\n",
       "    </thead>\n",
       "    <tbody>\n",
       "        <tr>\n",
       "            <td>ecommerce</td>\n",
       "            <td>user</td>\n",
       "            <td>UTF8</td>\n",
       "            <td>en_US.utf8</td>\n",
       "            <td>en_US.utf8</td>\n",
       "            <td>None</td>\n",
       "        </tr>\n",
       "        <tr>\n",
       "            <td>postgres</td>\n",
       "            <td>user</td>\n",
       "            <td>UTF8</td>\n",
       "            <td>en_US.utf8</td>\n",
       "            <td>en_US.utf8</td>\n",
       "            <td>None</td>\n",
       "        </tr>\n",
       "        <tr>\n",
       "            <td>template0</td>\n",
       "            <td>user</td>\n",
       "            <td>UTF8</td>\n",
       "            <td>en_US.utf8</td>\n",
       "            <td>en_US.utf8</td>\n",
       "            <td>=c/user<br>user=CTc/user</td>\n",
       "        </tr>\n",
       "        <tr>\n",
       "            <td>template1</td>\n",
       "            <td>user</td>\n",
       "            <td>UTF8</td>\n",
       "            <td>en_US.utf8</td>\n",
       "            <td>en_US.utf8</td>\n",
       "            <td>=c/user<br>user=CTc/user</td>\n",
       "        </tr>\n",
       "    </tbody>\n",
       "</table>"
      ],
      "text/plain": [
       "+-----------+-------+----------+------------+------------+-------------------+\n",
       "|    Name   | Owner | Encoding |  Collate   |   Ctype    | Access privileges |\n",
       "+-----------+-------+----------+------------+------------+-------------------+\n",
       "| ecommerce |  user |   UTF8   | en_US.utf8 | en_US.utf8 |        None       |\n",
       "|  postgres |  user |   UTF8   | en_US.utf8 | en_US.utf8 |        None       |\n",
       "| template0 |  user |   UTF8   | en_US.utf8 | en_US.utf8 |      =c/user      |\n",
       "|           |       |          |            |            |   user=CTc/user   |\n",
       "| template1 |  user |   UTF8   | en_US.utf8 | en_US.utf8 |      =c/user      |\n",
       "|           |       |          |            |            |   user=CTc/user   |\n",
       "+-----------+-------+----------+------------+------------+-------------------+"
      ]
     },
     "execution_count": 5,
     "metadata": {},
     "output_type": "execute_result"
    }
   ],
   "source": [
    "%sql \\l"
   ]
  },
  {
   "cell_type": "code",
   "execution_count": 6,
   "id": "2f2df36c-6c8d-46f9-9238-7adcbd1d1a33",
   "metadata": {
    "execution": {
     "iopub.execute_input": "2025-03-16T00:42:58.172254Z",
     "iopub.status.busy": "2025-03-16T00:42:58.172035Z",
     "iopub.status.idle": "2025-03-16T00:42:58.183140Z",
     "shell.execute_reply": "2025-03-16T00:42:58.182201Z",
     "shell.execute_reply.started": "2025-03-16T00:42:58.172239Z"
    }
   },
   "outputs": [
    {
     "data": {
      "text/html": [
       "<span style=\"None\">Running query in &#x27;postgresql://user:***@db:5432/ecommerce&#x27;</span>"
      ],
      "text/plain": [
       "Running query in 'postgresql://user:***@db:5432/ecommerce'"
      ]
     },
     "metadata": {},
     "output_type": "display_data"
    },
    {
     "data": {
      "text/html": [
       "<table>\n",
       "    <thead>\n",
       "        <tr>\n",
       "            <th>Schema</th>\n",
       "            <th>Name</th>\n",
       "            <th>Type</th>\n",
       "            <th>Owner</th>\n",
       "        </tr>\n",
       "    </thead>\n",
       "    <tbody>\n",
       "        <tr>\n",
       "            <td>public</td>\n",
       "            <td>customer</td>\n",
       "            <td>table</td>\n",
       "            <td>user</td>\n",
       "        </tr>\n",
       "        <tr>\n",
       "            <td>public</td>\n",
       "            <td>inventory</td>\n",
       "            <td>table</td>\n",
       "            <td>user</td>\n",
       "        </tr>\n",
       "        <tr>\n",
       "            <td>public</td>\n",
       "            <td>vendor</td>\n",
       "            <td>table</td>\n",
       "            <td>user</td>\n",
       "        </tr>\n",
       "    </tbody>\n",
       "</table>"
      ],
      "text/plain": [
       "+--------+-----------+-------+-------+\n",
       "| Schema |    Name   |  Type | Owner |\n",
       "+--------+-----------+-------+-------+\n",
       "| public |  customer | table |  user |\n",
       "| public | inventory | table |  user |\n",
       "| public |   vendor  | table |  user |\n",
       "+--------+-----------+-------+-------+"
      ]
     },
     "execution_count": 6,
     "metadata": {},
     "output_type": "execute_result"
    }
   ],
   "source": [
    "%sql \\dt"
   ]
  },
  {
   "cell_type": "code",
   "execution_count": 7,
   "id": "24f044ce-1c6b-4422-b967-b365ffb81fe3",
   "metadata": {
    "execution": {
     "iopub.execute_input": "2025-03-16T00:43:01.076021Z",
     "iopub.status.busy": "2025-03-16T00:43:01.075654Z",
     "iopub.status.idle": "2025-03-16T00:43:01.079588Z",
     "shell.execute_reply": "2025-03-16T00:43:01.078574Z",
     "shell.execute_reply.started": "2025-03-16T00:43:01.076001Z"
    }
   },
   "outputs": [],
   "source": [
    "table_list = [\n",
    "    \"customer\", \"inventory\", \"vendor\"\n",
    "]"
   ]
  },
  {
   "cell_type": "code",
   "execution_count": 8,
   "id": "e0e14b20-1dc9-4ae2-8a2e-353f80668afe",
   "metadata": {
    "execution": {
     "iopub.execute_input": "2025-03-16T00:43:02.008798Z",
     "iopub.status.busy": "2025-03-16T00:43:02.008281Z",
     "iopub.status.idle": "2025-03-16T00:43:02.047369Z",
     "shell.execute_reply": "2025-03-16T00:43:02.046657Z",
     "shell.execute_reply.started": "2025-03-16T00:43:02.008776Z"
    }
   },
   "outputs": [
    {
     "name": "stdout",
     "output_type": "stream",
     "text": [
      "customer\n"
     ]
    },
    {
     "data": {
      "text/html": [
       "<table>\n",
       "    <thead>\n",
       "        <tr>\n",
       "            <th>name</th>\n",
       "            <th>type</th>\n",
       "            <th>nullable</th>\n",
       "            <th>default</th>\n",
       "            <th>autoincrement</th>\n",
       "            <th>comment</th>\n",
       "        </tr>\n",
       "    </thead>\n",
       "    <tbody>\n",
       "        <tr>\n",
       "            <td>id</td>\n",
       "            <td>INTEGER</td>\n",
       "            <td>False</td>\n",
       "            <td>nextval(&#x27;customer_id_seq&#x27;::regclass)</td>\n",
       "            <td>True</td>\n",
       "            <td>None</td>\n",
       "        </tr>\n",
       "        <tr>\n",
       "            <td>first_name</td>\n",
       "            <td>TEXT</td>\n",
       "            <td>False</td>\n",
       "            <td>None</td>\n",
       "            <td>False</td>\n",
       "            <td>None</td>\n",
       "        </tr>\n",
       "        <tr>\n",
       "            <td>last_name</td>\n",
       "            <td>TEXT</td>\n",
       "            <td>False</td>\n",
       "            <td>None</td>\n",
       "            <td>False</td>\n",
       "            <td>None</td>\n",
       "        </tr>\n",
       "        <tr>\n",
       "            <td>email</td>\n",
       "            <td>TEXT</td>\n",
       "            <td>False</td>\n",
       "            <td>None</td>\n",
       "            <td>False</td>\n",
       "            <td>None</td>\n",
       "        </tr>\n",
       "        <tr>\n",
       "            <td>joined_at</td>\n",
       "            <td>TIMESTAMP</td>\n",
       "            <td>False</td>\n",
       "            <td>None</td>\n",
       "            <td>False</td>\n",
       "            <td>None</td>\n",
       "        </tr>\n",
       "    </tbody>\n",
       "</table>"
      ],
      "text/plain": [
       "+------------+-----------+----------+--------------------------------------+---------------+---------+\n",
       "|    name    |    type   | nullable |               default                | autoincrement | comment |\n",
       "+------------+-----------+----------+--------------------------------------+---------------+---------+\n",
       "|     id     |  INTEGER  |  False   | nextval('customer_id_seq'::regclass) |      True     |   None  |\n",
       "| first_name |    TEXT   |  False   |                 None                 |     False     |   None  |\n",
       "| last_name  |    TEXT   |  False   |                 None                 |     False     |   None  |\n",
       "|   email    |    TEXT   |  False   |                 None                 |     False     |   None  |\n",
       "| joined_at  | TIMESTAMP |  False   |                 None                 |     False     |   None  |\n",
       "+------------+-----------+----------+--------------------------------------+---------------+---------+"
      ]
     },
     "metadata": {},
     "output_type": "display_data"
    },
    {
     "name": "stdout",
     "output_type": "stream",
     "text": [
      "inventory\n"
     ]
    },
    {
     "data": {
      "text/html": [
       "<table>\n",
       "    <thead>\n",
       "        <tr>\n",
       "            <th>name</th>\n",
       "            <th>type</th>\n",
       "            <th>nullable</th>\n",
       "            <th>default</th>\n",
       "            <th>autoincrement</th>\n",
       "            <th>comment</th>\n",
       "        </tr>\n",
       "    </thead>\n",
       "    <tbody>\n",
       "        <tr>\n",
       "            <td>id</td>\n",
       "            <td>INTEGER</td>\n",
       "            <td>False</td>\n",
       "            <td>nextval(&#x27;inventory_id_seq&#x27;::regclass)</td>\n",
       "            <td>True</td>\n",
       "            <td>None</td>\n",
       "        </tr>\n",
       "        <tr>\n",
       "            <td>item_name</td>\n",
       "            <td>TEXT</td>\n",
       "            <td>False</td>\n",
       "            <td>None</td>\n",
       "            <td>False</td>\n",
       "            <td>None</td>\n",
       "        </tr>\n",
       "        <tr>\n",
       "            <td>category</td>\n",
       "            <td>TEXT</td>\n",
       "            <td>False</td>\n",
       "            <td>None</td>\n",
       "            <td>False</td>\n",
       "            <td>None</td>\n",
       "        </tr>\n",
       "        <tr>\n",
       "            <td>price</td>\n",
       "            <td>INTEGER</td>\n",
       "            <td>False</td>\n",
       "            <td>None</td>\n",
       "            <td>False</td>\n",
       "            <td>None</td>\n",
       "        </tr>\n",
       "        <tr>\n",
       "            <td>updated_at</td>\n",
       "            <td>TIMESTAMP</td>\n",
       "            <td>False</td>\n",
       "            <td>None</td>\n",
       "            <td>False</td>\n",
       "            <td>None</td>\n",
       "        </tr>\n",
       "        <tr>\n",
       "            <td>vendor_id</td>\n",
       "            <td>INTEGER</td>\n",
       "            <td>True</td>\n",
       "            <td>None</td>\n",
       "            <td>False</td>\n",
       "            <td>None</td>\n",
       "        </tr>\n",
       "    </tbody>\n",
       "</table>"
      ],
      "text/plain": [
       "+------------+-----------+----------+---------------------------------------+---------------+---------+\n",
       "|    name    |    type   | nullable |                default                | autoincrement | comment |\n",
       "+------------+-----------+----------+---------------------------------------+---------------+---------+\n",
       "|     id     |  INTEGER  |  False   | nextval('inventory_id_seq'::regclass) |      True     |   None  |\n",
       "| item_name  |    TEXT   |  False   |                  None                 |     False     |   None  |\n",
       "|  category  |    TEXT   |  False   |                  None                 |     False     |   None  |\n",
       "|   price    |  INTEGER  |  False   |                  None                 |     False     |   None  |\n",
       "| updated_at | TIMESTAMP |  False   |                  None                 |     False     |   None  |\n",
       "| vendor_id  |  INTEGER  |   True   |                  None                 |     False     |   None  |\n",
       "+------------+-----------+----------+---------------------------------------+---------------+---------+"
      ]
     },
     "metadata": {},
     "output_type": "display_data"
    },
    {
     "name": "stdout",
     "output_type": "stream",
     "text": [
      "vendor\n"
     ]
    },
    {
     "data": {
      "text/html": [
       "<table>\n",
       "    <thead>\n",
       "        <tr>\n",
       "            <th>name</th>\n",
       "            <th>type</th>\n",
       "            <th>nullable</th>\n",
       "            <th>default</th>\n",
       "            <th>autoincrement</th>\n",
       "            <th>comment</th>\n",
       "        </tr>\n",
       "    </thead>\n",
       "    <tbody>\n",
       "        <tr>\n",
       "            <td>id</td>\n",
       "            <td>INTEGER</td>\n",
       "            <td>False</td>\n",
       "            <td>nextval(&#x27;vendor_id_seq&#x27;::regclass)</td>\n",
       "            <td>True</td>\n",
       "            <td>None</td>\n",
       "        </tr>\n",
       "        <tr>\n",
       "            <td>vendor_name</td>\n",
       "            <td>TEXT</td>\n",
       "            <td>False</td>\n",
       "            <td>None</td>\n",
       "            <td>False</td>\n",
       "            <td>None</td>\n",
       "        </tr>\n",
       "        <tr>\n",
       "            <td>region</td>\n",
       "            <td>TEXT</td>\n",
       "            <td>False</td>\n",
       "            <td>None</td>\n",
       "            <td>False</td>\n",
       "            <td>None</td>\n",
       "        </tr>\n",
       "        <tr>\n",
       "            <td>joined_at</td>\n",
       "            <td>TIMESTAMP</td>\n",
       "            <td>False</td>\n",
       "            <td>None</td>\n",
       "            <td>False</td>\n",
       "            <td>None</td>\n",
       "        </tr>\n",
       "    </tbody>\n",
       "</table>"
      ],
      "text/plain": [
       "+-------------+-----------+----------+------------------------------------+---------------+---------+\n",
       "|     name    |    type   | nullable |              default               | autoincrement | comment |\n",
       "+-------------+-----------+----------+------------------------------------+---------------+---------+\n",
       "|      id     |  INTEGER  |  False   | nextval('vendor_id_seq'::regclass) |      True     |   None  |\n",
       "| vendor_name |    TEXT   |  False   |                None                |     False     |   None  |\n",
       "|    region   |    TEXT   |  False   |                None                |     False     |   None  |\n",
       "|  joined_at  | TIMESTAMP |  False   |                None                |     False     |   None  |\n",
       "+-------------+-----------+----------+------------------------------------+---------------+---------+"
      ]
     },
     "metadata": {},
     "output_type": "display_data"
    }
   ],
   "source": [
    "for table in table_list:\n",
    "    print(f\"{table}\")\n",
    "    schema_query = f\"columns --table {table}\"\n",
    "    display(get_ipython().run_line_magic('sqlcmd', schema_query))"
   ]
  },
  {
   "cell_type": "code",
   "execution_count": 12,
   "id": "fdf23bea-7fcd-4952-94c7-22eb7b7659f6",
   "metadata": {
    "execution": {
     "iopub.execute_input": "2025-03-16T00:45:42.601336Z",
     "iopub.status.busy": "2025-03-16T00:45:42.601120Z",
     "iopub.status.idle": "2025-03-16T00:45:42.613520Z",
     "shell.execute_reply": "2025-03-16T00:45:42.612851Z",
     "shell.execute_reply.started": "2025-03-16T00:45:42.601321Z"
    }
   },
   "outputs": [
    {
     "name": "stdout",
     "output_type": "stream",
     "text": [
      "200 {'first_name': 'John', 'last_name': 'Doe', 'email': 'john.doe@example.com', 'joined_at': '2025-03-16T12:00:00'}\n"
     ]
    }
   ],
   "source": [
    "import requests\n",
    "\n",
    "url = \"http://fastapi:8000/customers/\"\n",
    "params = {\"email\": \"john.doe@example.com\"}  # Query parameter\n",
    "\n",
    "response = requests.get(url, params=params)\n",
    "\n",
    "print(response.status_code, response.json())\n"
   ]
  },
  {
   "cell_type": "code",
   "execution_count": null,
   "id": "17580ec6-b81c-4785-8b72-b8005d131836",
   "metadata": {},
   "outputs": [],
   "source": []
  }
 ],
 "metadata": {
  "kernelspec": {
   "display_name": "Python 3 (ipykernel)",
   "language": "python",
   "name": "python3"
  },
  "language_info": {
   "codemirror_mode": {
    "name": "ipython",
    "version": 3
   },
   "file_extension": ".py",
   "mimetype": "text/x-python",
   "name": "python",
   "nbconvert_exporter": "python",
   "pygments_lexer": "ipython3",
   "version": "3.11.11"
  }
 },
 "nbformat": 4,
 "nbformat_minor": 5
}
