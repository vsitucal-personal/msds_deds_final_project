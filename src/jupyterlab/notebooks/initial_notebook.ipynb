{
 "cells": [
  {
   "cell_type": "code",
   "execution_count": 1,
   "id": "9951c3b6-d2df-4f5b-8c30-f0c2ace3f649",
   "metadata": {
    "execution": {
     "iopub.execute_input": "2025-03-16T02:54:25.990243Z",
     "iopub.status.busy": "2025-03-16T02:54:25.990092Z",
     "iopub.status.idle": "2025-03-16T02:54:26.497716Z",
     "shell.execute_reply": "2025-03-16T02:54:26.496753Z",
     "shell.execute_reply.started": "2025-03-16T02:54:25.990228Z"
    }
   },
   "outputs": [],
   "source": [
    "%load_ext sql"
   ]
  },
  {
   "cell_type": "code",
   "execution_count": 2,
   "id": "1c8414a7-76f8-4152-a6fd-8b7ff1c5729e",
   "metadata": {
    "execution": {
     "iopub.execute_input": "2025-03-16T02:54:26.943641Z",
     "iopub.status.busy": "2025-03-16T02:54:26.943420Z",
     "iopub.status.idle": "2025-03-16T02:54:27.020084Z",
     "shell.execute_reply": "2025-03-16T02:54:27.018705Z",
     "shell.execute_reply.started": "2025-03-16T02:54:26.943625Z"
    }
   },
   "outputs": [],
   "source": [
    "import requests\n",
    "from sqlalchemy import create_engine"
   ]
  },
  {
   "cell_type": "code",
   "execution_count": 3,
   "id": "2e35d9d0-ddb3-49ba-bf38-90dfb976ffe6",
   "metadata": {
    "execution": {
     "iopub.execute_input": "2025-03-16T02:54:28.047493Z",
     "iopub.status.busy": "2025-03-16T02:54:28.045994Z",
     "iopub.status.idle": "2025-03-16T02:54:28.072718Z",
     "shell.execute_reply": "2025-03-16T02:54:28.072085Z",
     "shell.execute_reply.started": "2025-03-16T02:54:28.047473Z"
    }
   },
   "outputs": [
    {
     "name": "stdout",
     "output_type": "stream",
     "text": [
      "201 {'id': 1, 'first_name': 'John', 'last_name': 'Doe', 'email': 'john.doe@example.com', 'joined_at': '2025-03-16T02:54:28.065264'}\n"
     ]
    }
   ],
   "source": [
    "url = \"http://fastapi:8000/customers/\"\n",
    "\n",
    "data = {\n",
    "    \"first_name\": \"John\",\n",
    "    \"last_name\": \"Doe\",\n",
    "    \"email\": \"john.doe@example.com\",\n",
    "    \"joined_at\": \"2025-03-16T12:00:00\"\n",
    "}\n",
    "\n",
    "headers = {\"Content-Type\": \"application/json\"}\n",
    "\n",
    "response = requests.post(url, json=data, headers=headers)\n",
    "\n",
    "print(response.status_code, response.json())"
   ]
  },
  {
   "cell_type": "code",
   "execution_count": 4,
   "id": "3958b656-a100-486b-a5f1-e0db37cbc32b",
   "metadata": {
    "execution": {
     "iopub.execute_input": "2025-03-16T02:54:36.290387Z",
     "iopub.status.busy": "2025-03-16T02:54:36.290142Z",
     "iopub.status.idle": "2025-03-16T02:54:36.307098Z",
     "shell.execute_reply": "2025-03-16T02:54:36.306287Z",
     "shell.execute_reply.started": "2025-03-16T02:54:36.290369Z"
    }
   },
   "outputs": [
    {
     "name": "stdout",
     "output_type": "stream",
     "text": [
      "201 {'id': 1, 'vendor_name': 'Tech Supplies Inc.', 'region': 'PH', 'joined_at': '2025-03-16T02:54:36.299811'}\n"
     ]
    }
   ],
   "source": [
    "url = \"http://fastapi:8000/vendors/\"\n",
    "data = {\n",
    "    \"vendor_name\": \"Tech Supplies Inc.\",\n",
    "    \"region\": \"PH\"\n",
    "}\n",
    "\n",
    "response = requests.post(url, json=data)\n",
    "print(response.status_code, response.json())"
   ]
  },
  {
   "cell_type": "code",
   "execution_count": 5,
   "id": "9f3024d9-daa1-4108-85bb-338c1c8cdc64",
   "metadata": {
    "execution": {
     "iopub.execute_input": "2025-03-16T02:54:41.491297Z",
     "iopub.status.busy": "2025-03-16T02:54:41.490796Z",
     "iopub.status.idle": "2025-03-16T02:54:41.508465Z",
     "shell.execute_reply": "2025-03-16T02:54:41.507915Z",
     "shell.execute_reply.started": "2025-03-16T02:54:41.491278Z"
    }
   },
   "outputs": [
    {
     "name": "stdout",
     "output_type": "stream",
     "text": [
      "200 {'id': 1, 'item_name': 'AK-47', 'category': 'guns', 'price': 1000.0, 'vendor_id': 1, 'updated_at': '2025-03-16T02:54:41.500925'}\n"
     ]
    }
   ],
   "source": [
    "url = \"http://fastapi:8000/inventory/\"\n",
    "params = {\"vendor_id\": \"1\"}\n",
    "data = {\n",
    "    \"item_name\": \"AK-47\",\n",
    "    \"category\": \"guns\",\n",
    "    \"price\": \"1000\"\n",
    "}\n",
    "\n",
    "response = requests.post(url, params=params, json=data)\n",
    "print(response.status_code, response.json())  # Should return 201 Created"
   ]
  },
  {
   "cell_type": "code",
   "execution_count": 10,
   "id": "dd567195-5a9f-49af-ba1b-a0bca33e8695",
   "metadata": {
    "execution": {
     "iopub.execute_input": "2025-03-16T02:57:34.021278Z",
     "iopub.status.busy": "2025-03-16T02:57:34.021053Z",
     "iopub.status.idle": "2025-03-16T02:57:34.031456Z",
     "shell.execute_reply": "2025-03-16T02:57:34.030840Z",
     "shell.execute_reply.started": "2025-03-16T02:57:34.021262Z"
    }
   },
   "outputs": [
    {
     "data": {
      "text/plain": [
       "'Internal Server Error'"
      ]
     },
     "execution_count": 10,
     "metadata": {},
     "output_type": "execute_result"
    }
   ],
   "source": [
    "url = \"http://fastapi:8000/cart/\"\n",
    "data = {\n",
    "    \"pk\": \"USER#1\",\n",
    "    \"cart\": [\n",
    "        {\n",
    "            \"item_id\": \"1\",\n",
    "            \"vendor_id\": \"1\",\n",
    "            \"qty\": 5\n",
    "        }\n",
    "    ]\n",
    "}\n",
    "\n",
    "response = requests.post(url, json=data)\n",
    "# print(response.status_code, response.json())  # Should return 201 Created\n",
    "response.text"
   ]
  },
  {
   "cell_type": "code",
   "execution_count": null,
   "id": "8ea3937e-8a78-476e-8698-9a279513db10",
   "metadata": {},
   "outputs": [],
   "source": [
    "connection_string = f\"postgresql://user:password@db:5432/ecommerce\"\n",
    "engine = create_engine(connection_string)\n",
    "get_ipython().run_line_magic('sql', connection_string)"
   ]
  },
  {
   "cell_type": "code",
   "execution_count": null,
   "id": "4091fbe7-27ea-4748-8a76-725fed516d4f",
   "metadata": {},
   "outputs": [],
   "source": [
    "%sql \\l"
   ]
  },
  {
   "cell_type": "code",
   "execution_count": null,
   "id": "2f2df36c-6c8d-46f9-9238-7adcbd1d1a33",
   "metadata": {},
   "outputs": [],
   "source": [
    "%sql \\dt"
   ]
  },
  {
   "cell_type": "code",
   "execution_count": null,
   "id": "24f044ce-1c6b-4422-b967-b365ffb81fe3",
   "metadata": {},
   "outputs": [],
   "source": [
    "table_list = [\n",
    "    \"customer\", \"inventory\", \"vendor\"\n",
    "]"
   ]
  },
  {
   "cell_type": "code",
   "execution_count": null,
   "id": "e0e14b20-1dc9-4ae2-8a2e-353f80668afe",
   "metadata": {},
   "outputs": [],
   "source": [
    "for table in table_list:\n",
    "    print(f\"{table}\")\n",
    "    schema_query = f\"columns --table {table}\"\n",
    "    display(get_ipython().run_line_magic('sqlcmd', schema_query))"
   ]
  },
  {
   "cell_type": "code",
   "execution_count": null,
   "id": "fdf23bea-7fcd-4952-94c7-22eb7b7659f6",
   "metadata": {},
   "outputs": [],
   "source": []
  },
  {
   "cell_type": "code",
   "execution_count": null,
   "id": "17580ec6-b81c-4785-8b72-b8005d131836",
   "metadata": {},
   "outputs": [],
   "source": []
  }
 ],
 "metadata": {
  "kernelspec": {
   "display_name": "Python 3 (ipykernel)",
   "language": "python",
   "name": "python3"
  },
  "language_info": {
   "codemirror_mode": {
    "name": "ipython",
    "version": 3
   },
   "file_extension": ".py",
   "mimetype": "text/x-python",
   "name": "python",
   "nbconvert_exporter": "python",
   "pygments_lexer": "ipython3",
   "version": "3.11.11"
  }
 },
 "nbformat": 4,
 "nbformat_minor": 5
}
