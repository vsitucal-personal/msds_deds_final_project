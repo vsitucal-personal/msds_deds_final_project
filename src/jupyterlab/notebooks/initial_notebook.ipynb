{
 "cells": [
  {
   "cell_type": "code",
   "execution_count": 1,
   "id": "9951c3b6-d2df-4f5b-8c30-f0c2ace3f649",
   "metadata": {
    "execution": {
     "iopub.execute_input": "2025-03-16T01:35:14.133954Z",
     "iopub.status.busy": "2025-03-16T01:35:14.133749Z",
     "iopub.status.idle": "2025-03-16T01:35:14.643423Z",
     "shell.execute_reply": "2025-03-16T01:35:14.642902Z",
     "shell.execute_reply.started": "2025-03-16T01:35:14.133937Z"
    }
   },
   "outputs": [],
   "source": [
    "%load_ext sql"
   ]
  },
  {
   "cell_type": "code",
   "execution_count": 2,
   "id": "1c8414a7-76f8-4152-a6fd-8b7ff1c5729e",
   "metadata": {
    "execution": {
     "iopub.execute_input": "2025-03-16T01:35:15.412554Z",
     "iopub.status.busy": "2025-03-16T01:35:15.412137Z",
     "iopub.status.idle": "2025-03-16T01:35:15.485736Z",
     "shell.execute_reply": "2025-03-16T01:35:15.484565Z",
     "shell.execute_reply.started": "2025-03-16T01:35:15.412529Z"
    }
   },
   "outputs": [],
   "source": [
    "import requests\n",
    "from sqlalchemy import create_engine"
   ]
  },
  {
   "cell_type": "code",
   "execution_count": 3,
   "id": "2e35d9d0-ddb3-49ba-bf38-90dfb976ffe6",
   "metadata": {
    "execution": {
     "iopub.execute_input": "2025-03-16T01:35:16.023519Z",
     "iopub.status.busy": "2025-03-16T01:35:16.023032Z",
     "iopub.status.idle": "2025-03-16T01:35:16.047257Z",
     "shell.execute_reply": "2025-03-16T01:35:16.046117Z",
     "shell.execute_reply.started": "2025-03-16T01:35:16.023493Z"
    }
   },
   "outputs": [
    {
     "name": "stdout",
     "output_type": "stream",
     "text": [
      "201 {'id': 1, 'first_name': 'John', 'last_name': 'Doe', 'email': 'john.doe@example.com', 'joined_at': '2025-03-16T01:35:16.040469'}\n"
     ]
    }
   ],
   "source": [
    "url = \"http://fastapi:8000/customers/\"\n",
    "\n",
    "data = {\n",
    "    \"first_name\": \"John\",\n",
    "    \"last_name\": \"Doe\",\n",
    "    \"email\": \"john.doe@example.com\",\n",
    "    \"joined_at\": \"2025-03-16T12:00:00\"\n",
    "}\n",
    "\n",
    "headers = {\"Content-Type\": \"application/json\"}\n",
    "\n",
    "response = requests.post(url, json=data, headers=headers)\n",
    "\n",
    "print(response.status_code, response.json())"
   ]
  },
  {
   "cell_type": "code",
   "execution_count": 11,
   "id": "3958b656-a100-486b-a5f1-e0db37cbc32b",
   "metadata": {
    "execution": {
     "iopub.execute_input": "2025-03-16T01:36:57.558644Z",
     "iopub.status.busy": "2025-03-16T01:36:57.557960Z",
     "iopub.status.idle": "2025-03-16T01:36:57.574426Z",
     "shell.execute_reply": "2025-03-16T01:36:57.573385Z",
     "shell.execute_reply.started": "2025-03-16T01:36:57.558624Z"
    }
   },
   "outputs": [
    {
     "name": "stdout",
     "output_type": "stream",
     "text": [
      "201 {'id': 1, 'vendor_name': 'Tech Supplies Inc.', 'region': 'PH', 'joined_at': '2025-03-16T01:36:57.567119'}\n"
     ]
    }
   ],
   "source": [
    "url = \"http://fastapi:8000/vendors/\"\n",
    "data = {\n",
    "    \"vendor_name\": \"Tech Supplies Inc.\",\n",
    "    \"region\": \"PH\"\n",
    "}\n",
    "\n",
    "response = requests.post(url, json=data)\n",
    "print(response.status_code, response.json())  # Should return 201 Created"
   ]
  },
  {
   "cell_type": "code",
   "execution_count": 17,
   "id": "9f3024d9-daa1-4108-85bb-338c1c8cdc64",
   "metadata": {
    "execution": {
     "iopub.execute_input": "2025-03-16T01:43:07.431722Z",
     "iopub.status.busy": "2025-03-16T01:43:07.431502Z",
     "iopub.status.idle": "2025-03-16T01:43:07.448249Z",
     "shell.execute_reply": "2025-03-16T01:43:07.447717Z",
     "shell.execute_reply.started": "2025-03-16T01:43:07.431707Z"
    }
   },
   "outputs": [
    {
     "name": "stdout",
     "output_type": "stream",
     "text": [
      "200 {'id': 1, 'item_name': 'AK-47', 'category': 'guns', 'price': 1000.0, 'updated_at': '2025-03-16T01:43:07.441024'}\n"
     ]
    }
   ],
   "source": [
    "url = \"http://fastapi:8000/inventory/\"\n",
    "params = {\"vendor_id\": \"1\"}\n",
    "data = {\n",
    "    \"item_name\": \"AK-47\",\n",
    "    \"category\": \"guns\",\n",
    "    \"price\": \"1000\"\n",
    "}\n",
    "\n",
    "response = requests.post(url, params=params, json=data)\n",
    "print(response.status_code, response.json())  # Should return 201 Created"
   ]
  },
  {
   "cell_type": "code",
   "execution_count": 12,
   "id": "ced94e9b-e645-48bf-b65e-0dcbc618f5e1",
   "metadata": {
    "execution": {
     "iopub.execute_input": "2025-03-16T01:37:10.562780Z",
     "iopub.status.busy": "2025-03-16T01:37:10.562283Z",
     "iopub.status.idle": "2025-03-16T01:37:10.577668Z",
     "shell.execute_reply": "2025-03-16T01:37:10.576483Z",
     "shell.execute_reply.started": "2025-03-16T01:37:10.562759Z"
    }
   },
   "outputs": [
    {
     "name": "stdout",
     "output_type": "stream",
     "text": [
      "200 {'id': 1, 'first_name': 'John', 'last_name': 'Doe', 'email': 'john.doe@example.com', 'joined_at': '2025-03-16T01:35:16.040469'}\n"
     ]
    }
   ],
   "source": [
    "import requests\n",
    "\n",
    "url = \"http://fastapi:8000/customers/\"\n",
    "params = {\"email\": \"john.doe@example.com\"}  # Query parameter\n",
    "\n",
    "response = requests.get(url, params=params)\n",
    "\n",
    "print(response.status_code, response.json())"
   ]
  },
  {
   "cell_type": "code",
   "execution_count": 14,
   "id": "d9d241ae-70da-4d9a-9f47-8b69106a6724",
   "metadata": {
    "execution": {
     "iopub.execute_input": "2025-03-16T01:38:46.110429Z",
     "iopub.status.busy": "2025-03-16T01:38:46.109376Z",
     "iopub.status.idle": "2025-03-16T01:38:46.124588Z",
     "shell.execute_reply": "2025-03-16T01:38:46.124055Z",
     "shell.execute_reply.started": "2025-03-16T01:38:46.110409Z"
    }
   },
   "outputs": [
    {
     "name": "stdout",
     "output_type": "stream",
     "text": [
      "200 {'id': 1, 'vendor_name': 'Tech Supplies Inc.', 'region': 'PH', 'joined_at': '2025-03-16T01:36:57.567119'}\n"
     ]
    }
   ],
   "source": [
    "params = {\"vendor_name\": \"Tech Supplies Inc.\"}\n",
    "url = \"http://fastapi:8000/vendors/\"\n",
    "response = requests.get(url, params=params)\n",
    "\n",
    "print(response.status_code, response.json())  # Should return vendors matching \"tech\""
   ]
  },
  {
   "cell_type": "code",
   "execution_count": 21,
   "id": "190b105c-4d7f-4cb9-8e2d-5db99101ca8f",
   "metadata": {
    "execution": {
     "iopub.execute_input": "2025-03-16T01:45:35.547171Z",
     "iopub.status.busy": "2025-03-16T01:45:35.546557Z",
     "iopub.status.idle": "2025-03-16T01:45:35.560758Z",
     "shell.execute_reply": "2025-03-16T01:45:35.560178Z",
     "shell.execute_reply.started": "2025-03-16T01:45:35.547153Z"
    }
   },
   "outputs": [
    {
     "name": "stdout",
     "output_type": "stream",
     "text": [
      "200 [{'id': 1, 'item_name': 'AK-47', 'category': 'guns', 'price': 1000.0, 'updated_at': '2025-03-16T01:43:07.441024'}]\n"
     ]
    }
   ],
   "source": [
    "params = {\"item_name\": \"ak\"}\n",
    "url = \"http://fastapi:8000/inventory/\"\n",
    "response = requests.get(url, params=params)\n",
    "\n",
    "print(response.status_code, response.json())  # Should return vendors matching \"tech\""
   ]
  },
  {
   "cell_type": "code",
   "execution_count": 4,
   "id": "8ea3937e-8a78-476e-8698-9a279513db10",
   "metadata": {
    "execution": {
     "iopub.execute_input": "2025-03-16T01:35:17.105767Z",
     "iopub.status.busy": "2025-03-16T01:35:17.104322Z",
     "iopub.status.idle": "2025-03-16T01:35:17.183072Z",
     "shell.execute_reply": "2025-03-16T01:35:17.182602Z",
     "shell.execute_reply.started": "2025-03-16T01:35:17.105744Z"
    }
   },
   "outputs": [
    {
     "data": {
      "text/html": [
       "<span style=\"None\">Connecting to &#x27;postgresql://user:***@db:5432/ecommerce&#x27;</span>"
      ],
      "text/plain": [
       "Connecting to 'postgresql://user:***@db:5432/ecommerce'"
      ]
     },
     "metadata": {},
     "output_type": "display_data"
    }
   ],
   "source": [
    "connection_string = f\"postgresql://user:password@db:5432/ecommerce\"\n",
    "engine = create_engine(connection_string)\n",
    "get_ipython().run_line_magic('sql', connection_string)"
   ]
  },
  {
   "cell_type": "code",
   "execution_count": 5,
   "id": "4091fbe7-27ea-4748-8a76-725fed516d4f",
   "metadata": {
    "execution": {
     "iopub.execute_input": "2025-03-16T01:35:17.666606Z",
     "iopub.status.busy": "2025-03-16T01:35:17.666325Z",
     "iopub.status.idle": "2025-03-16T01:35:17.681817Z",
     "shell.execute_reply": "2025-03-16T01:35:17.681297Z",
     "shell.execute_reply.started": "2025-03-16T01:35:17.666588Z"
    }
   },
   "outputs": [
    {
     "data": {
      "text/html": [
       "<span style=\"None\">Running query in &#x27;postgresql://user:***@db:5432/ecommerce&#x27;</span>"
      ],
      "text/plain": [
       "Running query in 'postgresql://user:***@db:5432/ecommerce'"
      ]
     },
     "metadata": {},
     "output_type": "display_data"
    },
    {
     "data": {
      "text/html": [
       "<table>\n",
       "    <thead>\n",
       "        <tr>\n",
       "            <th>Name</th>\n",
       "            <th>Owner</th>\n",
       "            <th>Encoding</th>\n",
       "            <th>Collate</th>\n",
       "            <th>Ctype</th>\n",
       "            <th>Access privileges</th>\n",
       "        </tr>\n",
       "    </thead>\n",
       "    <tbody>\n",
       "        <tr>\n",
       "            <td>ecommerce</td>\n",
       "            <td>user</td>\n",
       "            <td>UTF8</td>\n",
       "            <td>en_US.utf8</td>\n",
       "            <td>en_US.utf8</td>\n",
       "            <td>None</td>\n",
       "        </tr>\n",
       "        <tr>\n",
       "            <td>postgres</td>\n",
       "            <td>user</td>\n",
       "            <td>UTF8</td>\n",
       "            <td>en_US.utf8</td>\n",
       "            <td>en_US.utf8</td>\n",
       "            <td>None</td>\n",
       "        </tr>\n",
       "        <tr>\n",
       "            <td>template0</td>\n",
       "            <td>user</td>\n",
       "            <td>UTF8</td>\n",
       "            <td>en_US.utf8</td>\n",
       "            <td>en_US.utf8</td>\n",
       "            <td>=c/user<br>user=CTc/user</td>\n",
       "        </tr>\n",
       "        <tr>\n",
       "            <td>template1</td>\n",
       "            <td>user</td>\n",
       "            <td>UTF8</td>\n",
       "            <td>en_US.utf8</td>\n",
       "            <td>en_US.utf8</td>\n",
       "            <td>=c/user<br>user=CTc/user</td>\n",
       "        </tr>\n",
       "    </tbody>\n",
       "</table>"
      ],
      "text/plain": [
       "+-----------+-------+----------+------------+------------+-------------------+\n",
       "|    Name   | Owner | Encoding |  Collate   |   Ctype    | Access privileges |\n",
       "+-----------+-------+----------+------------+------------+-------------------+\n",
       "| ecommerce |  user |   UTF8   | en_US.utf8 | en_US.utf8 |        None       |\n",
       "|  postgres |  user |   UTF8   | en_US.utf8 | en_US.utf8 |        None       |\n",
       "| template0 |  user |   UTF8   | en_US.utf8 | en_US.utf8 |      =c/user      |\n",
       "|           |       |          |            |            |   user=CTc/user   |\n",
       "| template1 |  user |   UTF8   | en_US.utf8 | en_US.utf8 |      =c/user      |\n",
       "|           |       |          |            |            |   user=CTc/user   |\n",
       "+-----------+-------+----------+------------+------------+-------------------+"
      ]
     },
     "execution_count": 5,
     "metadata": {},
     "output_type": "execute_result"
    }
   ],
   "source": [
    "%sql \\l"
   ]
  },
  {
   "cell_type": "code",
   "execution_count": 6,
   "id": "2f2df36c-6c8d-46f9-9238-7adcbd1d1a33",
   "metadata": {
    "execution": {
     "iopub.execute_input": "2025-03-16T01:35:18.268593Z",
     "iopub.status.busy": "2025-03-16T01:35:18.267866Z",
     "iopub.status.idle": "2025-03-16T01:35:18.277390Z",
     "shell.execute_reply": "2025-03-16T01:35:18.276686Z",
     "shell.execute_reply.started": "2025-03-16T01:35:18.268570Z"
    }
   },
   "outputs": [
    {
     "data": {
      "text/html": [
       "<span style=\"None\">Running query in &#x27;postgresql://user:***@db:5432/ecommerce&#x27;</span>"
      ],
      "text/plain": [
       "Running query in 'postgresql://user:***@db:5432/ecommerce'"
      ]
     },
     "metadata": {},
     "output_type": "display_data"
    },
    {
     "data": {
      "text/html": [
       "<table>\n",
       "    <thead>\n",
       "        <tr>\n",
       "            <th>Schema</th>\n",
       "            <th>Name</th>\n",
       "            <th>Type</th>\n",
       "            <th>Owner</th>\n",
       "        </tr>\n",
       "    </thead>\n",
       "    <tbody>\n",
       "        <tr>\n",
       "            <td>public</td>\n",
       "            <td>customer</td>\n",
       "            <td>table</td>\n",
       "            <td>user</td>\n",
       "        </tr>\n",
       "        <tr>\n",
       "            <td>public</td>\n",
       "            <td>inventory</td>\n",
       "            <td>table</td>\n",
       "            <td>user</td>\n",
       "        </tr>\n",
       "        <tr>\n",
       "            <td>public</td>\n",
       "            <td>vendor</td>\n",
       "            <td>table</td>\n",
       "            <td>user</td>\n",
       "        </tr>\n",
       "    </tbody>\n",
       "</table>"
      ],
      "text/plain": [
       "+--------+-----------+-------+-------+\n",
       "| Schema |    Name   |  Type | Owner |\n",
       "+--------+-----------+-------+-------+\n",
       "| public |  customer | table |  user |\n",
       "| public | inventory | table |  user |\n",
       "| public |   vendor  | table |  user |\n",
       "+--------+-----------+-------+-------+"
      ]
     },
     "execution_count": 6,
     "metadata": {},
     "output_type": "execute_result"
    }
   ],
   "source": [
    "%sql \\dt"
   ]
  },
  {
   "cell_type": "code",
   "execution_count": 7,
   "id": "24f044ce-1c6b-4422-b967-b365ffb81fe3",
   "metadata": {
    "execution": {
     "iopub.execute_input": "2025-03-16T01:35:18.987406Z",
     "iopub.status.busy": "2025-03-16T01:35:18.986525Z",
     "iopub.status.idle": "2025-03-16T01:35:18.990159Z",
     "shell.execute_reply": "2025-03-16T01:35:18.989624Z",
     "shell.execute_reply.started": "2025-03-16T01:35:18.987387Z"
    }
   },
   "outputs": [],
   "source": [
    "table_list = [\n",
    "    \"customer\", \"inventory\", \"vendor\"\n",
    "]"
   ]
  },
  {
   "cell_type": "code",
   "execution_count": 8,
   "id": "e0e14b20-1dc9-4ae2-8a2e-353f80668afe",
   "metadata": {
    "execution": {
     "iopub.execute_input": "2025-03-16T01:35:19.798034Z",
     "iopub.status.busy": "2025-03-16T01:35:19.797800Z",
     "iopub.status.idle": "2025-03-16T01:35:19.835225Z",
     "shell.execute_reply": "2025-03-16T01:35:19.834065Z",
     "shell.execute_reply.started": "2025-03-16T01:35:19.798017Z"
    }
   },
   "outputs": [
    {
     "name": "stdout",
     "output_type": "stream",
     "text": [
      "customer\n"
     ]
    },
    {
     "data": {
      "text/html": [
       "<table>\n",
       "    <thead>\n",
       "        <tr>\n",
       "            <th>name</th>\n",
       "            <th>type</th>\n",
       "            <th>nullable</th>\n",
       "            <th>default</th>\n",
       "            <th>autoincrement</th>\n",
       "            <th>comment</th>\n",
       "        </tr>\n",
       "    </thead>\n",
       "    <tbody>\n",
       "        <tr>\n",
       "            <td>id</td>\n",
       "            <td>INTEGER</td>\n",
       "            <td>False</td>\n",
       "            <td>nextval(&#x27;customer_id_seq&#x27;::regclass)</td>\n",
       "            <td>True</td>\n",
       "            <td>None</td>\n",
       "        </tr>\n",
       "        <tr>\n",
       "            <td>first_name</td>\n",
       "            <td>TEXT</td>\n",
       "            <td>False</td>\n",
       "            <td>None</td>\n",
       "            <td>False</td>\n",
       "            <td>None</td>\n",
       "        </tr>\n",
       "        <tr>\n",
       "            <td>last_name</td>\n",
       "            <td>TEXT</td>\n",
       "            <td>False</td>\n",
       "            <td>None</td>\n",
       "            <td>False</td>\n",
       "            <td>None</td>\n",
       "        </tr>\n",
       "        <tr>\n",
       "            <td>email</td>\n",
       "            <td>TEXT</td>\n",
       "            <td>False</td>\n",
       "            <td>None</td>\n",
       "            <td>False</td>\n",
       "            <td>None</td>\n",
       "        </tr>\n",
       "        <tr>\n",
       "            <td>joined_at</td>\n",
       "            <td>TIMESTAMP</td>\n",
       "            <td>False</td>\n",
       "            <td>None</td>\n",
       "            <td>False</td>\n",
       "            <td>None</td>\n",
       "        </tr>\n",
       "    </tbody>\n",
       "</table>"
      ],
      "text/plain": [
       "+------------+-----------+----------+--------------------------------------+---------------+---------+\n",
       "|    name    |    type   | nullable |               default                | autoincrement | comment |\n",
       "+------------+-----------+----------+--------------------------------------+---------------+---------+\n",
       "|     id     |  INTEGER  |  False   | nextval('customer_id_seq'::regclass) |      True     |   None  |\n",
       "| first_name |    TEXT   |  False   |                 None                 |     False     |   None  |\n",
       "| last_name  |    TEXT   |  False   |                 None                 |     False     |   None  |\n",
       "|   email    |    TEXT   |  False   |                 None                 |     False     |   None  |\n",
       "| joined_at  | TIMESTAMP |  False   |                 None                 |     False     |   None  |\n",
       "+------------+-----------+----------+--------------------------------------+---------------+---------+"
      ]
     },
     "metadata": {},
     "output_type": "display_data"
    },
    {
     "name": "stdout",
     "output_type": "stream",
     "text": [
      "inventory\n"
     ]
    },
    {
     "data": {
      "text/html": [
       "<table>\n",
       "    <thead>\n",
       "        <tr>\n",
       "            <th>name</th>\n",
       "            <th>type</th>\n",
       "            <th>nullable</th>\n",
       "            <th>default</th>\n",
       "            <th>autoincrement</th>\n",
       "            <th>comment</th>\n",
       "        </tr>\n",
       "    </thead>\n",
       "    <tbody>\n",
       "        <tr>\n",
       "            <td>id</td>\n",
       "            <td>INTEGER</td>\n",
       "            <td>False</td>\n",
       "            <td>nextval(&#x27;inventory_id_seq&#x27;::regclass)</td>\n",
       "            <td>True</td>\n",
       "            <td>None</td>\n",
       "        </tr>\n",
       "        <tr>\n",
       "            <td>item_name</td>\n",
       "            <td>TEXT</td>\n",
       "            <td>False</td>\n",
       "            <td>None</td>\n",
       "            <td>False</td>\n",
       "            <td>None</td>\n",
       "        </tr>\n",
       "        <tr>\n",
       "            <td>category</td>\n",
       "            <td>TEXT</td>\n",
       "            <td>False</td>\n",
       "            <td>None</td>\n",
       "            <td>False</td>\n",
       "            <td>None</td>\n",
       "        </tr>\n",
       "        <tr>\n",
       "            <td>price</td>\n",
       "            <td>INTEGER</td>\n",
       "            <td>False</td>\n",
       "            <td>None</td>\n",
       "            <td>False</td>\n",
       "            <td>None</td>\n",
       "        </tr>\n",
       "        <tr>\n",
       "            <td>updated_at</td>\n",
       "            <td>TIMESTAMP</td>\n",
       "            <td>False</td>\n",
       "            <td>None</td>\n",
       "            <td>False</td>\n",
       "            <td>None</td>\n",
       "        </tr>\n",
       "        <tr>\n",
       "            <td>vendor_id</td>\n",
       "            <td>INTEGER</td>\n",
       "            <td>True</td>\n",
       "            <td>None</td>\n",
       "            <td>False</td>\n",
       "            <td>None</td>\n",
       "        </tr>\n",
       "    </tbody>\n",
       "</table>"
      ],
      "text/plain": [
       "+------------+-----------+----------+---------------------------------------+---------------+---------+\n",
       "|    name    |    type   | nullable |                default                | autoincrement | comment |\n",
       "+------------+-----------+----------+---------------------------------------+---------------+---------+\n",
       "|     id     |  INTEGER  |  False   | nextval('inventory_id_seq'::regclass) |      True     |   None  |\n",
       "| item_name  |    TEXT   |  False   |                  None                 |     False     |   None  |\n",
       "|  category  |    TEXT   |  False   |                  None                 |     False     |   None  |\n",
       "|   price    |  INTEGER  |  False   |                  None                 |     False     |   None  |\n",
       "| updated_at | TIMESTAMP |  False   |                  None                 |     False     |   None  |\n",
       "| vendor_id  |  INTEGER  |   True   |                  None                 |     False     |   None  |\n",
       "+------------+-----------+----------+---------------------------------------+---------------+---------+"
      ]
     },
     "metadata": {},
     "output_type": "display_data"
    },
    {
     "name": "stdout",
     "output_type": "stream",
     "text": [
      "vendor\n"
     ]
    },
    {
     "data": {
      "text/html": [
       "<table>\n",
       "    <thead>\n",
       "        <tr>\n",
       "            <th>name</th>\n",
       "            <th>type</th>\n",
       "            <th>nullable</th>\n",
       "            <th>default</th>\n",
       "            <th>autoincrement</th>\n",
       "            <th>comment</th>\n",
       "        </tr>\n",
       "    </thead>\n",
       "    <tbody>\n",
       "        <tr>\n",
       "            <td>id</td>\n",
       "            <td>INTEGER</td>\n",
       "            <td>False</td>\n",
       "            <td>nextval(&#x27;vendor_id_seq&#x27;::regclass)</td>\n",
       "            <td>True</td>\n",
       "            <td>None</td>\n",
       "        </tr>\n",
       "        <tr>\n",
       "            <td>vendor_name</td>\n",
       "            <td>TEXT</td>\n",
       "            <td>False</td>\n",
       "            <td>None</td>\n",
       "            <td>False</td>\n",
       "            <td>None</td>\n",
       "        </tr>\n",
       "        <tr>\n",
       "            <td>region</td>\n",
       "            <td>TEXT</td>\n",
       "            <td>False</td>\n",
       "            <td>None</td>\n",
       "            <td>False</td>\n",
       "            <td>None</td>\n",
       "        </tr>\n",
       "        <tr>\n",
       "            <td>joined_at</td>\n",
       "            <td>TIMESTAMP</td>\n",
       "            <td>False</td>\n",
       "            <td>None</td>\n",
       "            <td>False</td>\n",
       "            <td>None</td>\n",
       "        </tr>\n",
       "    </tbody>\n",
       "</table>"
      ],
      "text/plain": [
       "+-------------+-----------+----------+------------------------------------+---------------+---------+\n",
       "|     name    |    type   | nullable |              default               | autoincrement | comment |\n",
       "+-------------+-----------+----------+------------------------------------+---------------+---------+\n",
       "|      id     |  INTEGER  |  False   | nextval('vendor_id_seq'::regclass) |      True     |   None  |\n",
       "| vendor_name |    TEXT   |  False   |                None                |     False     |   None  |\n",
       "|    region   |    TEXT   |  False   |                None                |     False     |   None  |\n",
       "|  joined_at  | TIMESTAMP |  False   |                None                |     False     |   None  |\n",
       "+-------------+-----------+----------+------------------------------------+---------------+---------+"
      ]
     },
     "metadata": {},
     "output_type": "display_data"
    }
   ],
   "source": [
    "for table in table_list:\n",
    "    print(f\"{table}\")\n",
    "    schema_query = f\"columns --table {table}\"\n",
    "    display(get_ipython().run_line_magic('sqlcmd', schema_query))"
   ]
  },
  {
   "cell_type": "code",
   "execution_count": null,
   "id": "fdf23bea-7fcd-4952-94c7-22eb7b7659f6",
   "metadata": {},
   "outputs": [],
   "source": []
  },
  {
   "cell_type": "code",
   "execution_count": null,
   "id": "17580ec6-b81c-4785-8b72-b8005d131836",
   "metadata": {},
   "outputs": [],
   "source": []
  }
 ],
 "metadata": {
  "kernelspec": {
   "display_name": "Python 3 (ipykernel)",
   "language": "python",
   "name": "python3"
  },
  "language_info": {
   "codemirror_mode": {
    "name": "ipython",
    "version": 3
   },
   "file_extension": ".py",
   "mimetype": "text/x-python",
   "name": "python",
   "nbconvert_exporter": "python",
   "pygments_lexer": "ipython3",
   "version": "3.11.11"
  }
 },
 "nbformat": 4,
 "nbformat_minor": 5
}
