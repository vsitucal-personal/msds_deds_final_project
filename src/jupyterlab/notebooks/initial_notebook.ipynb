{
 "cells": [
  {
   "cell_type": "code",
   "execution_count": null,
   "id": "9951c3b6-d2df-4f5b-8c30-f0c2ace3f649",
   "metadata": {},
   "outputs": [],
   "source": [
    "%load_ext sql"
   ]
  },
  {
   "cell_type": "code",
   "execution_count": null,
   "id": "1c8414a7-76f8-4152-a6fd-8b7ff1c5729e",
   "metadata": {},
   "outputs": [],
   "source": [
    "import requests\n",
    "from sqlalchemy import create_engine"
   ]
  },
  {
   "cell_type": "code",
   "execution_count": null,
   "id": "2e35d9d0-ddb3-49ba-bf38-90dfb976ffe6",
   "metadata": {},
   "outputs": [],
   "source": [
    "url = \"http://fastapi:8000/customers/\"\n",
    "\n",
    "data = {\n",
    "    \"first_name\": \"John\",\n",
    "    \"last_name\": \"Doe\",\n",
    "    \"email\": \"john.doe@example.com\",\n",
    "    \"joined_at\": \"2025-03-16T12:00:00\"\n",
    "}\n",
    "\n",
    "headers = {\"Content-Type\": \"application/json\"}\n",
    "\n",
    "response = requests.post(url, json=data, headers=headers)\n",
    "\n",
    "print(response.status_code, response.json())"
   ]
  },
  {
   "cell_type": "code",
   "execution_count": null,
   "id": "8ea3937e-8a78-476e-8698-9a279513db10",
   "metadata": {},
   "outputs": [],
   "source": [
    "connection_string = f\"postgresql://user:password@db:5432/ecommerce\"\n",
    "engine = create_engine(connection_string)\n",
    "get_ipython().run_line_magic('sql', connection_string)"
   ]
  },
  {
   "cell_type": "code",
   "execution_count": null,
   "id": "4091fbe7-27ea-4748-8a76-725fed516d4f",
   "metadata": {},
   "outputs": [],
   "source": [
    "%sql \\l"
   ]
  },
  {
   "cell_type": "code",
   "execution_count": null,
   "id": "2f2df36c-6c8d-46f9-9238-7adcbd1d1a33",
   "metadata": {},
   "outputs": [],
   "source": [
    "%sql \\dt"
   ]
  },
  {
   "cell_type": "code",
   "execution_count": null,
   "id": "24f044ce-1c6b-4422-b967-b365ffb81fe3",
   "metadata": {},
   "outputs": [],
   "source": [
    "table_list = [\n",
    "    \"customer\", \"inventory\", \"vendor\"\n",
    "]"
   ]
  },
  {
   "cell_type": "code",
   "execution_count": null,
   "id": "e0e14b20-1dc9-4ae2-8a2e-353f80668afe",
   "metadata": {},
   "outputs": [],
   "source": [
    "for table in table_list:\n",
    "    print(f\"{table}\")\n",
    "    schema_query = f\"columns --table {table}\"\n",
    "    display(get_ipython().run_line_magic('sqlcmd', schema_query))"
   ]
  },
  {
   "cell_type": "code",
   "execution_count": null,
   "id": "fdf23bea-7fcd-4952-94c7-22eb7b7659f6",
   "metadata": {},
   "outputs": [],
   "source": []
  }
 ],
 "metadata": {
  "kernelspec": {
   "display_name": "Python 3 (ipykernel)",
   "language": "python",
   "name": "python3"
  },
  "language_info": {
   "codemirror_mode": {
    "name": "ipython",
    "version": 3
   },
   "file_extension": ".py",
   "mimetype": "text/x-python",
   "name": "python",
   "nbconvert_exporter": "python",
   "pygments_lexer": "ipython3",
   "version": "3.11.11"
  }
 },
 "nbformat": 4,
 "nbformat_minor": 5
}
