{
 "cells": [
  {
   "cell_type": "code",
   "execution_count": null,
   "id": "9951c3b6-d2df-4f5b-8c30-f0c2ace3f649",
   "metadata": {},
   "outputs": [],
   "source": [
    "%load_ext sql"
   ]
  },
  {
   "cell_type": "code",
   "execution_count": null,
   "id": "1c8414a7-76f8-4152-a6fd-8b7ff1c5729e",
   "metadata": {},
   "outputs": [],
   "source": [
    "import boto3\n",
    "import requests\n",
    "import os\n",
    "import pandas as pd\n",
    "from sqlalchemy import create_engine\n",
    "from faker import Faker\n",
    "import redshift_connector"
   ]
  },
  {
   "cell_type": "code",
   "execution_count": null,
   "id": "5a86dd25-5a67-4431-bf2a-afe614c96fc2",
   "metadata": {},
   "outputs": [],
   "source": [
    "pd.set_option('display.max_rows', 12)\n",
    "pd.set_option('display.min_rows', 6)"
   ]
  },
  {
   "cell_type": "code",
   "execution_count": null,
   "id": "59cf744b-5914-4a8b-a965-a8bab0a770ed",
   "metadata": {},
   "outputs": [],
   "source": [
    "fake = Faker()\n",
    "\n",
    "base_url = \"http://fastapi:8000\"\n",
    "headers = {\"Content-Type\": \"application/json\"}\n",
    "\n",
    "print(\"customers\")\n",
    "# Create customers\n",
    "for customer_id in range(1, 11):\n",
    "    data = {\n",
    "        \"first_name\": fake.first_name(),\n",
    "        \"last_name\": fake.last_name(),\n",
    "        \"email\": fake.email(),\n",
    "        \"joined_at\": fake.iso8601()\n",
    "    }\n",
    "    response = requests.post(f\"{base_url}/customers/\", json=data, headers=headers)\n",
    "    print(response.status_code, response.json())\n",
    "\n",
    "print(\"vendors\")\n",
    "# Create vendors\n",
    "for vendor_id in range(1, 6):\n",
    "    data = {\n",
    "        \"vendor_name\": fake.company(),\n",
    "        \"region\": fake.country_code()\n",
    "    }\n",
    "    response = requests.post(f\"{base_url}/vendors/\", json=data, headers=headers)\n",
    "    print(response.status_code, response.json())\n",
    "\n",
    "print(\"inventory per vendor\")\n",
    "# Add inventory per vendor\n",
    "for vendor_id in range(1, 6):\n",
    "    for item_id in range(1, 11):\n",
    "        params = {\"vendor_id\": vendor_id}\n",
    "        data = {\n",
    "            \"item_name\": fake.word(),\n",
    "            \"category\": fake.word(),\n",
    "            \"price\": fake.random_int(min=10, max=500),\n",
    "        }\n",
    "        response = requests.post(f\"{base_url}/inventory/\", json=data, headers=headers, params=params)\n",
    "        print(response.status_code, response.json())\n",
    "\n",
    "print(\"cart and checkout twice and add to cart again!\")\n",
    "for customer_id in range(1, 11):\n",
    "    for _ in range(2):  # Checkout twice\n",
    "        cart_data = {\n",
    "            \"user_id\": customer_id,\n",
    "            \"cart\": [\n",
    "                {\n",
    "                    \"item_id\": str(fake.random_int(min=1, max=10)),\n",
    "                    \"vendor_id\": str(fake.random_int(min=1, max=5)),\n",
    "                    \"qty\": fake.random_int(min=1, max=5)\n",
    "                },\n",
    "                {\n",
    "                    \"item_id\": str(fake.random_int(min=1, max=10)),\n",
    "                    \"vendor_id\": str(fake.random_int(min=1, max=5)),\n",
    "                    \"qty\": fake.random_int(min=1, max=5)\n",
    "                }\n",
    "            ]\n",
    "        }\n",
    "        response = requests.post(f\"{base_url}/cart/\", json=cart_data, headers=headers)\n",
    "        print(response.status_code, response.json())\n",
    "        \n",
    "        response = requests.post(f\"{base_url}/checkout/\", json={\"user_id\": customer_id}, headers=headers)\n",
    "        print(response.status_code, response.text)\n",
    "    \n",
    "    # Add to cart one more time\n",
    "    cart_data = {\n",
    "        \"user_id\": customer_id,\n",
    "        \"cart\": [\n",
    "            {\n",
    "                \"item_id\": str(fake.random_int(min=1, max=10)),\n",
    "                \"vendor_id\": str(fake.random_int(min=1, max=5)),\n",
    "                \"qty\": fake.random_int(min=1, max=5)\n",
    "            },\n",
    "            {\n",
    "                \"item_id\": str(fake.random_int(min=1, max=10)),\n",
    "                \"vendor_id\": str(fake.random_int(min=1, max=5)),\n",
    "                \"qty\": fake.random_int(min=1, max=5)\n",
    "            }\n",
    "        ]\n",
    "    }\n",
    "    response = requests.post(f\"{base_url}/cart/\", json=cart_data, headers=headers)\n",
    "    print(response.status_code, response.json())"
   ]
  },
  {
   "cell_type": "code",
   "execution_count": null,
   "id": "5fa96845-c785-42c1-a89f-de93618637e4",
   "metadata": {},
   "outputs": [],
   "source": [
    "OLTP_USER = os.getenv(\"POSTGRES_USER\")\n",
    "OLTP_PASS = os.getenv(\"POSTGRES_PASSWORD\")\n",
    "OLTP_HOST = os.getenv(\"POSTGRES_HOST\")\n",
    "OLTP_DB_NAME = os.getenv(\"POSTGRES_DB\")\n",
    "OLAP_USER = os.getenv(\"REDSHIFT_USER\")\n",
    "OLAP_PASS = os.getenv(\"REDSHIFT_PASSWORD\")\n",
    "OLAP_HOST = os.getenv(\"REDSHIFT_HOST\")\n",
    "OLAP_DB_NAME = os.getenv(\"REDSHIFT_DB\")"
   ]
  },
  {
   "cell_type": "code",
   "execution_count": null,
   "id": "8ea3937e-8a78-476e-8698-9a279513db10",
   "metadata": {},
   "outputs": [],
   "source": [
    "connection_string = f\"postgresql://{OLTP_USER}:{OLTP_PASS}@{OLTP_HOST}:5432/{OLTP_DB_NAME}\"\n",
    "engine = create_engine(connection_string)\n",
    "get_ipython().run_line_magic('sql', connection_string)"
   ]
  },
  {
   "cell_type": "code",
   "execution_count": null,
   "id": "2f2df36c-6c8d-46f9-9238-7adcbd1d1a33",
   "metadata": {},
   "outputs": [],
   "source": [
    "%sql \\dt"
   ]
  },
  {
   "cell_type": "code",
   "execution_count": null,
   "id": "24f044ce-1c6b-4422-b967-b365ffb81fe3",
   "metadata": {},
   "outputs": [],
   "source": [
    "table_list = [\n",
    "    \"customer\", \"inventory\", \"vendor\"\n",
    "]"
   ]
  },
  {
   "cell_type": "code",
   "execution_count": null,
   "id": "e0e14b20-1dc9-4ae2-8a2e-353f80668afe",
   "metadata": {},
   "outputs": [],
   "source": [
    "for table in table_list:\n",
    "    print(f\"{table}\")\n",
    "    schema_query = f\"columns --table {table}\"\n",
    "    display(get_ipython().run_line_magic('sqlcmd', schema_query))"
   ]
  },
  {
   "cell_type": "code",
   "execution_count": null,
   "id": "fdf23bea-7fcd-4952-94c7-22eb7b7659f6",
   "metadata": {},
   "outputs": [],
   "source": [
    "for table in table_list:\n",
    "    print(f\"{table}\")\n",
    "    display(pd.read_sql(f\"select * from {table} limit 100\", engine.raw_connection()))"
   ]
  },
  {
   "cell_type": "code",
   "execution_count": null,
   "id": "7c417c8c-7298-4fe5-a788-d0fb0660b269",
   "metadata": {},
   "outputs": [],
   "source": [
    "connection_string = f\"postgresql://{OLAP_USER}:{OLAP_PASS}@{OLAP_HOST}:5439/{OLAP_DB_NAME}\"\n",
    "engine = redshift_connector.connect(\n",
    "    host=OLAP_HOST,\n",
    "    port=5439,\n",
    "    database=OLAP_DB_NAME,\n",
    "    user=OLAP_USER,\n",
    "    password=OLAP_PASS\n",
    ")\n",
    "engine = create_engine(connection_string)\n",
    "get_ipython().run_line_magic('sql', connection_string)"
   ]
  },
  {
   "cell_type": "code",
   "execution_count": null,
   "id": "17580ec6-b81c-4785-8b72-b8005d131836",
   "metadata": {},
   "outputs": [],
   "source": [
    "%sql \\dt"
   ]
  },
  {
   "cell_type": "code",
   "execution_count": null,
   "id": "8be983cf-f50c-466a-bf80-8792d4a945df",
   "metadata": {},
   "outputs": [],
   "source": [
    "table_list = [\n",
    "    \"category\", \"customer\", \"date\", \"inventory\", \"vendor\", \"sales\"\n",
    "]"
   ]
  },
  {
   "cell_type": "code",
   "execution_count": null,
   "id": "280fe281-f5a9-4259-944e-fd709120fb90",
   "metadata": {},
   "outputs": [],
   "source": [
    "for table in table_list:\n",
    "    print(f\"{table}\")\n",
    "    schema_query = f\"columns --table {table}\"\n",
    "    display(get_ipython().run_line_magic('sqlcmd', schema_query))"
   ]
  },
  {
   "cell_type": "code",
   "execution_count": null,
   "id": "1ff2a062-60b9-46a5-b9ce-add6e44c2330",
   "metadata": {},
   "outputs": [],
   "source": [
    "for table in table_list:\n",
    "    print(f\"{table}\")\n",
    "    display(pd.read_sql(f\"select * from {table} limit 100\", engine.raw_connection()))"
   ]
  },
  {
   "cell_type": "code",
   "execution_count": null,
   "id": "7aa3456f-6929-4472-998f-2ffc41ff98e6",
   "metadata": {},
   "outputs": [],
   "source": [
    "dynamodb = boto3.resource(\"dynamodb\", \"us-east-1\")\n",
    "table = dynamodb.Table(\"mercado_ecommerce\")\n",
    "\n",
    "filtered_items = [item for item in table.scan()['Items'] if item.get(\"sk\") != \"CART\"]\n",
    "filtered_items"
   ]
  },
  {
   "cell_type": "code",
   "execution_count": null,
   "id": "0d1e8275-e32f-4b9b-a91f-2725d026c46a",
   "metadata": {},
   "outputs": [],
   "source": []
  }
 ],
 "metadata": {
  "kernelspec": {
   "display_name": "Python 3 (ipykernel)",
   "language": "python",
   "name": "python3"
  },
  "language_info": {
   "codemirror_mode": {
    "name": "ipython",
    "version": 3
   },
   "file_extension": ".py",
   "mimetype": "text/x-python",
   "name": "python",
   "nbconvert_exporter": "python",
   "pygments_lexer": "ipython3",
   "version": "3.11.11"
  }
 },
 "nbformat": 4,
 "nbformat_minor": 5
}
